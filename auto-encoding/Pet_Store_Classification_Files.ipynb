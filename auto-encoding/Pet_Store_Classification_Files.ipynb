{
  "nbformat": 4,
  "nbformat_minor": 0,
  "metadata": {
    "colab": {
      "provenance": [],
      "authorship_tag": "ABX9TyOx835i2LWkGG28HtUf4NyE",
      "include_colab_link": true
    },
    "kernelspec": {
      "name": "python3",
      "display_name": "Python 3"
    },
    "language_info": {
      "name": "python"
    }
  },
  "cells": [
    {
      "cell_type": "markdown",
      "metadata": {
        "id": "view-in-github",
        "colab_type": "text"
      },
      "source": [
        "<a href=\"https://colab.research.google.com/github/Carinaaa/AI-Models-Problems/blob/main/auto-encoding/Pet_Store_Classification_Files.ipynb\" target=\"_parent\"><img src=\"https://colab.research.google.com/assets/colab-badge.svg\" alt=\"Open In Colab\"/></a>"
      ]
    },
    {
      "cell_type": "code",
      "source": [
        "!pip install langchain-chroma"
      ],
      "metadata": {
        "colab": {
          "base_uri": "https://localhost:8080/"
        },
        "id": "2Mb5FDSG8Iiy",
        "outputId": "5dc3aa7c-820a-453f-d767-cbf7978c4339"
      },
      "execution_count": 1,
      "outputs": [
        {
          "output_type": "stream",
          "name": "stdout",
          "text": [
            "Requirement already satisfied: langchain-chroma in /usr/local/lib/python3.12/dist-packages (0.2.6)\n",
            "Requirement already satisfied: langchain-core>=0.3.76 in /usr/local/lib/python3.12/dist-packages (from langchain-chroma) (0.3.76)\n",
            "Requirement already satisfied: numpy>=1.26.0 in /usr/local/lib/python3.12/dist-packages (from langchain-chroma) (2.0.2)\n",
            "Requirement already satisfied: chromadb>=1.0.20 in /usr/local/lib/python3.12/dist-packages (from langchain-chroma) (1.0.21)\n",
            "Requirement already satisfied: build>=1.0.3 in /usr/local/lib/python3.12/dist-packages (from chromadb>=1.0.20->langchain-chroma) (1.3.0)\n",
            "Requirement already satisfied: pydantic>=1.9 in /usr/local/lib/python3.12/dist-packages (from chromadb>=1.0.20->langchain-chroma) (2.11.7)\n",
            "Requirement already satisfied: pybase64>=1.4.1 in /usr/local/lib/python3.12/dist-packages (from chromadb>=1.0.20->langchain-chroma) (1.4.2)\n",
            "Requirement already satisfied: uvicorn>=0.18.3 in /usr/local/lib/python3.12/dist-packages (from uvicorn[standard]>=0.18.3->chromadb>=1.0.20->langchain-chroma) (0.35.0)\n",
            "Requirement already satisfied: posthog<6.0.0,>=2.4.0 in /usr/local/lib/python3.12/dist-packages (from chromadb>=1.0.20->langchain-chroma) (5.4.0)\n",
            "Requirement already satisfied: typing-extensions>=4.5.0 in /usr/local/lib/python3.12/dist-packages (from chromadb>=1.0.20->langchain-chroma) (4.15.0)\n",
            "Requirement already satisfied: onnxruntime>=1.14.1 in /usr/local/lib/python3.12/dist-packages (from chromadb>=1.0.20->langchain-chroma) (1.22.1)\n",
            "Requirement already satisfied: opentelemetry-api>=1.2.0 in /usr/local/lib/python3.12/dist-packages (from chromadb>=1.0.20->langchain-chroma) (1.37.0)\n",
            "Requirement already satisfied: opentelemetry-exporter-otlp-proto-grpc>=1.2.0 in /usr/local/lib/python3.12/dist-packages (from chromadb>=1.0.20->langchain-chroma) (1.37.0)\n",
            "Requirement already satisfied: opentelemetry-sdk>=1.2.0 in /usr/local/lib/python3.12/dist-packages (from chromadb>=1.0.20->langchain-chroma) (1.37.0)\n",
            "Requirement already satisfied: tokenizers>=0.13.2 in /usr/local/lib/python3.12/dist-packages (from chromadb>=1.0.20->langchain-chroma) (0.22.0)\n",
            "Requirement already satisfied: pypika>=0.48.9 in /usr/local/lib/python3.12/dist-packages (from chromadb>=1.0.20->langchain-chroma) (0.48.9)\n",
            "Requirement already satisfied: tqdm>=4.65.0 in /usr/local/lib/python3.12/dist-packages (from chromadb>=1.0.20->langchain-chroma) (4.67.1)\n",
            "Requirement already satisfied: overrides>=7.3.1 in /usr/local/lib/python3.12/dist-packages (from chromadb>=1.0.20->langchain-chroma) (7.7.0)\n",
            "Requirement already satisfied: importlib-resources in /usr/local/lib/python3.12/dist-packages (from chromadb>=1.0.20->langchain-chroma) (6.5.2)\n",
            "Requirement already satisfied: grpcio>=1.58.0 in /usr/local/lib/python3.12/dist-packages (from chromadb>=1.0.20->langchain-chroma) (1.74.0)\n",
            "Requirement already satisfied: bcrypt>=4.0.1 in /usr/local/lib/python3.12/dist-packages (from chromadb>=1.0.20->langchain-chroma) (4.3.0)\n",
            "Requirement already satisfied: typer>=0.9.0 in /usr/local/lib/python3.12/dist-packages (from chromadb>=1.0.20->langchain-chroma) (0.17.3)\n",
            "Requirement already satisfied: kubernetes>=28.1.0 in /usr/local/lib/python3.12/dist-packages (from chromadb>=1.0.20->langchain-chroma) (33.1.0)\n",
            "Requirement already satisfied: tenacity>=8.2.3 in /usr/local/lib/python3.12/dist-packages (from chromadb>=1.0.20->langchain-chroma) (8.5.0)\n",
            "Requirement already satisfied: pyyaml>=6.0.0 in /usr/local/lib/python3.12/dist-packages (from chromadb>=1.0.20->langchain-chroma) (6.0.2)\n",
            "Requirement already satisfied: mmh3>=4.0.1 in /usr/local/lib/python3.12/dist-packages (from chromadb>=1.0.20->langchain-chroma) (5.2.0)\n",
            "Requirement already satisfied: orjson>=3.9.12 in /usr/local/lib/python3.12/dist-packages (from chromadb>=1.0.20->langchain-chroma) (3.11.3)\n",
            "Requirement already satisfied: httpx>=0.27.0 in /usr/local/lib/python3.12/dist-packages (from chromadb>=1.0.20->langchain-chroma) (0.28.1)\n",
            "Requirement already satisfied: rich>=10.11.0 in /usr/local/lib/python3.12/dist-packages (from chromadb>=1.0.20->langchain-chroma) (13.9.4)\n",
            "Requirement already satisfied: jsonschema>=4.19.0 in /usr/local/lib/python3.12/dist-packages (from chromadb>=1.0.20->langchain-chroma) (4.25.1)\n",
            "Requirement already satisfied: langsmith>=0.3.45 in /usr/local/lib/python3.12/dist-packages (from langchain-core>=0.3.76->langchain-chroma) (0.4.24)\n",
            "Requirement already satisfied: jsonpatch<2.0,>=1.33 in /usr/local/lib/python3.12/dist-packages (from langchain-core>=0.3.76->langchain-chroma) (1.33)\n",
            "Requirement already satisfied: packaging>=23.2 in /usr/local/lib/python3.12/dist-packages (from langchain-core>=0.3.76->langchain-chroma) (25.0)\n",
            "Requirement already satisfied: pyproject_hooks in /usr/local/lib/python3.12/dist-packages (from build>=1.0.3->chromadb>=1.0.20->langchain-chroma) (1.2.0)\n",
            "Requirement already satisfied: anyio in /usr/local/lib/python3.12/dist-packages (from httpx>=0.27.0->chromadb>=1.0.20->langchain-chroma) (4.10.0)\n",
            "Requirement already satisfied: certifi in /usr/local/lib/python3.12/dist-packages (from httpx>=0.27.0->chromadb>=1.0.20->langchain-chroma) (2025.8.3)\n",
            "Requirement already satisfied: httpcore==1.* in /usr/local/lib/python3.12/dist-packages (from httpx>=0.27.0->chromadb>=1.0.20->langchain-chroma) (1.0.9)\n",
            "Requirement already satisfied: idna in /usr/local/lib/python3.12/dist-packages (from httpx>=0.27.0->chromadb>=1.0.20->langchain-chroma) (3.10)\n",
            "Requirement already satisfied: h11>=0.16 in /usr/local/lib/python3.12/dist-packages (from httpcore==1.*->httpx>=0.27.0->chromadb>=1.0.20->langchain-chroma) (0.16.0)\n",
            "Requirement already satisfied: jsonpointer>=1.9 in /usr/local/lib/python3.12/dist-packages (from jsonpatch<2.0,>=1.33->langchain-core>=0.3.76->langchain-chroma) (3.0.0)\n",
            "Requirement already satisfied: attrs>=22.2.0 in /usr/local/lib/python3.12/dist-packages (from jsonschema>=4.19.0->chromadb>=1.0.20->langchain-chroma) (25.3.0)\n",
            "Requirement already satisfied: jsonschema-specifications>=2023.03.6 in /usr/local/lib/python3.12/dist-packages (from jsonschema>=4.19.0->chromadb>=1.0.20->langchain-chroma) (2025.4.1)\n",
            "Requirement already satisfied: referencing>=0.28.4 in /usr/local/lib/python3.12/dist-packages (from jsonschema>=4.19.0->chromadb>=1.0.20->langchain-chroma) (0.36.2)\n",
            "Requirement already satisfied: rpds-py>=0.7.1 in /usr/local/lib/python3.12/dist-packages (from jsonschema>=4.19.0->chromadb>=1.0.20->langchain-chroma) (0.27.1)\n",
            "Requirement already satisfied: six>=1.9.0 in /usr/local/lib/python3.12/dist-packages (from kubernetes>=28.1.0->chromadb>=1.0.20->langchain-chroma) (1.17.0)\n",
            "Requirement already satisfied: python-dateutil>=2.5.3 in /usr/local/lib/python3.12/dist-packages (from kubernetes>=28.1.0->chromadb>=1.0.20->langchain-chroma) (2.9.0.post0)\n",
            "Requirement already satisfied: google-auth>=1.0.1 in /usr/local/lib/python3.12/dist-packages (from kubernetes>=28.1.0->chromadb>=1.0.20->langchain-chroma) (2.38.0)\n",
            "Requirement already satisfied: websocket-client!=0.40.0,!=0.41.*,!=0.42.*,>=0.32.0 in /usr/local/lib/python3.12/dist-packages (from kubernetes>=28.1.0->chromadb>=1.0.20->langchain-chroma) (1.8.0)\n",
            "Requirement already satisfied: requests in /usr/local/lib/python3.12/dist-packages (from kubernetes>=28.1.0->chromadb>=1.0.20->langchain-chroma) (2.32.4)\n",
            "Requirement already satisfied: requests-oauthlib in /usr/local/lib/python3.12/dist-packages (from kubernetes>=28.1.0->chromadb>=1.0.20->langchain-chroma) (2.0.0)\n",
            "Requirement already satisfied: oauthlib>=3.2.2 in /usr/local/lib/python3.12/dist-packages (from kubernetes>=28.1.0->chromadb>=1.0.20->langchain-chroma) (3.3.1)\n",
            "Requirement already satisfied: urllib3>=1.24.2 in /usr/local/lib/python3.12/dist-packages (from kubernetes>=28.1.0->chromadb>=1.0.20->langchain-chroma) (2.5.0)\n",
            "Requirement already satisfied: durationpy>=0.7 in /usr/local/lib/python3.12/dist-packages (from kubernetes>=28.1.0->chromadb>=1.0.20->langchain-chroma) (0.10)\n",
            "Requirement already satisfied: requests-toolbelt>=1.0.0 in /usr/local/lib/python3.12/dist-packages (from langsmith>=0.3.45->langchain-core>=0.3.76->langchain-chroma) (1.0.0)\n",
            "Requirement already satisfied: zstandard>=0.23.0 in /usr/local/lib/python3.12/dist-packages (from langsmith>=0.3.45->langchain-core>=0.3.76->langchain-chroma) (0.24.0)\n",
            "Requirement already satisfied: coloredlogs in /usr/local/lib/python3.12/dist-packages (from onnxruntime>=1.14.1->chromadb>=1.0.20->langchain-chroma) (15.0.1)\n",
            "Requirement already satisfied: flatbuffers in /usr/local/lib/python3.12/dist-packages (from onnxruntime>=1.14.1->chromadb>=1.0.20->langchain-chroma) (25.2.10)\n",
            "Requirement already satisfied: protobuf in /usr/local/lib/python3.12/dist-packages (from onnxruntime>=1.14.1->chromadb>=1.0.20->langchain-chroma) (5.29.5)\n",
            "Requirement already satisfied: sympy in /usr/local/lib/python3.12/dist-packages (from onnxruntime>=1.14.1->chromadb>=1.0.20->langchain-chroma) (1.13.3)\n",
            "Requirement already satisfied: importlib-metadata<8.8.0,>=6.0 in /usr/local/lib/python3.12/dist-packages (from opentelemetry-api>=1.2.0->chromadb>=1.0.20->langchain-chroma) (8.7.0)\n",
            "Requirement already satisfied: googleapis-common-protos~=1.57 in /usr/local/lib/python3.12/dist-packages (from opentelemetry-exporter-otlp-proto-grpc>=1.2.0->chromadb>=1.0.20->langchain-chroma) (1.70.0)\n",
            "Requirement already satisfied: opentelemetry-exporter-otlp-proto-common==1.37.0 in /usr/local/lib/python3.12/dist-packages (from opentelemetry-exporter-otlp-proto-grpc>=1.2.0->chromadb>=1.0.20->langchain-chroma) (1.37.0)\n",
            "Requirement already satisfied: opentelemetry-proto==1.37.0 in /usr/local/lib/python3.12/dist-packages (from opentelemetry-exporter-otlp-proto-grpc>=1.2.0->chromadb>=1.0.20->langchain-chroma) (1.37.0)\n",
            "Requirement already satisfied: opentelemetry-semantic-conventions==0.58b0 in /usr/local/lib/python3.12/dist-packages (from opentelemetry-sdk>=1.2.0->chromadb>=1.0.20->langchain-chroma) (0.58b0)\n",
            "Requirement already satisfied: backoff>=1.10.0 in /usr/local/lib/python3.12/dist-packages (from posthog<6.0.0,>=2.4.0->chromadb>=1.0.20->langchain-chroma) (2.2.1)\n",
            "Requirement already satisfied: distro>=1.5.0 in /usr/local/lib/python3.12/dist-packages (from posthog<6.0.0,>=2.4.0->chromadb>=1.0.20->langchain-chroma) (1.9.0)\n",
            "Requirement already satisfied: annotated-types>=0.6.0 in /usr/local/lib/python3.12/dist-packages (from pydantic>=1.9->chromadb>=1.0.20->langchain-chroma) (0.7.0)\n",
            "Requirement already satisfied: pydantic-core==2.33.2 in /usr/local/lib/python3.12/dist-packages (from pydantic>=1.9->chromadb>=1.0.20->langchain-chroma) (2.33.2)\n",
            "Requirement already satisfied: typing-inspection>=0.4.0 in /usr/local/lib/python3.12/dist-packages (from pydantic>=1.9->chromadb>=1.0.20->langchain-chroma) (0.4.1)\n",
            "Requirement already satisfied: markdown-it-py>=2.2.0 in /usr/local/lib/python3.12/dist-packages (from rich>=10.11.0->chromadb>=1.0.20->langchain-chroma) (4.0.0)\n",
            "Requirement already satisfied: pygments<3.0.0,>=2.13.0 in /usr/local/lib/python3.12/dist-packages (from rich>=10.11.0->chromadb>=1.0.20->langchain-chroma) (2.19.2)\n",
            "Requirement already satisfied: huggingface-hub<1.0,>=0.16.4 in /usr/local/lib/python3.12/dist-packages (from tokenizers>=0.13.2->chromadb>=1.0.20->langchain-chroma) (0.34.4)\n",
            "Requirement already satisfied: click>=8.0.0 in /usr/local/lib/python3.12/dist-packages (from typer>=0.9.0->chromadb>=1.0.20->langchain-chroma) (8.2.1)\n",
            "Requirement already satisfied: shellingham>=1.3.0 in /usr/local/lib/python3.12/dist-packages (from typer>=0.9.0->chromadb>=1.0.20->langchain-chroma) (1.5.4)\n",
            "Requirement already satisfied: httptools>=0.6.3 in /usr/local/lib/python3.12/dist-packages (from uvicorn[standard]>=0.18.3->chromadb>=1.0.20->langchain-chroma) (0.6.4)\n",
            "Requirement already satisfied: python-dotenv>=0.13 in /usr/local/lib/python3.12/dist-packages (from uvicorn[standard]>=0.18.3->chromadb>=1.0.20->langchain-chroma) (1.1.1)\n",
            "Requirement already satisfied: uvloop>=0.15.1 in /usr/local/lib/python3.12/dist-packages (from uvicorn[standard]>=0.18.3->chromadb>=1.0.20->langchain-chroma) (0.21.0)\n",
            "Requirement already satisfied: watchfiles>=0.13 in /usr/local/lib/python3.12/dist-packages (from uvicorn[standard]>=0.18.3->chromadb>=1.0.20->langchain-chroma) (1.1.0)\n",
            "Requirement already satisfied: websockets>=10.4 in /usr/local/lib/python3.12/dist-packages (from uvicorn[standard]>=0.18.3->chromadb>=1.0.20->langchain-chroma) (15.0.1)\n",
            "Requirement already satisfied: cachetools<6.0,>=2.0.0 in /usr/local/lib/python3.12/dist-packages (from google-auth>=1.0.1->kubernetes>=28.1.0->chromadb>=1.0.20->langchain-chroma) (5.5.2)\n",
            "Requirement already satisfied: pyasn1-modules>=0.2.1 in /usr/local/lib/python3.12/dist-packages (from google-auth>=1.0.1->kubernetes>=28.1.0->chromadb>=1.0.20->langchain-chroma) (0.4.2)\n",
            "Requirement already satisfied: rsa<5,>=3.1.4 in /usr/local/lib/python3.12/dist-packages (from google-auth>=1.0.1->kubernetes>=28.1.0->chromadb>=1.0.20->langchain-chroma) (4.9.1)\n",
            "Requirement already satisfied: filelock in /usr/local/lib/python3.12/dist-packages (from huggingface-hub<1.0,>=0.16.4->tokenizers>=0.13.2->chromadb>=1.0.20->langchain-chroma) (3.19.1)\n",
            "Requirement already satisfied: fsspec>=2023.5.0 in /usr/local/lib/python3.12/dist-packages (from huggingface-hub<1.0,>=0.16.4->tokenizers>=0.13.2->chromadb>=1.0.20->langchain-chroma) (2025.3.0)\n",
            "Requirement already satisfied: hf-xet<2.0.0,>=1.1.3 in /usr/local/lib/python3.12/dist-packages (from huggingface-hub<1.0,>=0.16.4->tokenizers>=0.13.2->chromadb>=1.0.20->langchain-chroma) (1.1.9)\n",
            "Requirement already satisfied: zipp>=3.20 in /usr/local/lib/python3.12/dist-packages (from importlib-metadata<8.8.0,>=6.0->opentelemetry-api>=1.2.0->chromadb>=1.0.20->langchain-chroma) (3.23.0)\n",
            "Requirement already satisfied: mdurl~=0.1 in /usr/local/lib/python3.12/dist-packages (from markdown-it-py>=2.2.0->rich>=10.11.0->chromadb>=1.0.20->langchain-chroma) (0.1.2)\n",
            "Requirement already satisfied: charset_normalizer<4,>=2 in /usr/local/lib/python3.12/dist-packages (from requests->kubernetes>=28.1.0->chromadb>=1.0.20->langchain-chroma) (3.4.3)\n",
            "Requirement already satisfied: sniffio>=1.1 in /usr/local/lib/python3.12/dist-packages (from anyio->httpx>=0.27.0->chromadb>=1.0.20->langchain-chroma) (1.3.1)\n",
            "Requirement already satisfied: humanfriendly>=9.1 in /usr/local/lib/python3.12/dist-packages (from coloredlogs->onnxruntime>=1.14.1->chromadb>=1.0.20->langchain-chroma) (10.0)\n",
            "Requirement already satisfied: mpmath<1.4,>=1.1.0 in /usr/local/lib/python3.12/dist-packages (from sympy->onnxruntime>=1.14.1->chromadb>=1.0.20->langchain-chroma) (1.3.0)\n",
            "Requirement already satisfied: pyasn1<0.7.0,>=0.6.1 in /usr/local/lib/python3.12/dist-packages (from pyasn1-modules>=0.2.1->google-auth>=1.0.1->kubernetes>=28.1.0->chromadb>=1.0.20->langchain-chroma) (0.6.1)\n"
          ]
        }
      ]
    },
    {
      "cell_type": "code",
      "source": [
        "!pip install langchain-openai"
      ],
      "metadata": {
        "colab": {
          "base_uri": "https://localhost:8080/"
        },
        "id": "ucJndFio8KED",
        "outputId": "04991002-72a6-4c4c-94a7-8e9f16074e40"
      },
      "execution_count": 2,
      "outputs": [
        {
          "output_type": "stream",
          "name": "stdout",
          "text": [
            "Collecting langchain-openai\n",
            "  Downloading langchain_openai-0.3.33-py3-none-any.whl.metadata (2.4 kB)\n",
            "Requirement already satisfied: langchain-core<1.0.0,>=0.3.76 in /usr/local/lib/python3.12/dist-packages (from langchain-openai) (0.3.76)\n",
            "Requirement already satisfied: openai<2.0.0,>=1.104.2 in /usr/local/lib/python3.12/dist-packages (from langchain-openai) (1.106.1)\n",
            "Requirement already satisfied: tiktoken<1,>=0.7 in /usr/local/lib/python3.12/dist-packages (from langchain-openai) (0.11.0)\n",
            "Requirement already satisfied: langsmith>=0.3.45 in /usr/local/lib/python3.12/dist-packages (from langchain-core<1.0.0,>=0.3.76->langchain-openai) (0.4.24)\n",
            "Requirement already satisfied: tenacity!=8.4.0,<10.0.0,>=8.1.0 in /usr/local/lib/python3.12/dist-packages (from langchain-core<1.0.0,>=0.3.76->langchain-openai) (8.5.0)\n",
            "Requirement already satisfied: jsonpatch<2.0,>=1.33 in /usr/local/lib/python3.12/dist-packages (from langchain-core<1.0.0,>=0.3.76->langchain-openai) (1.33)\n",
            "Requirement already satisfied: PyYAML>=5.3 in /usr/local/lib/python3.12/dist-packages (from langchain-core<1.0.0,>=0.3.76->langchain-openai) (6.0.2)\n",
            "Requirement already satisfied: typing-extensions>=4.7 in /usr/local/lib/python3.12/dist-packages (from langchain-core<1.0.0,>=0.3.76->langchain-openai) (4.15.0)\n",
            "Requirement already satisfied: packaging>=23.2 in /usr/local/lib/python3.12/dist-packages (from langchain-core<1.0.0,>=0.3.76->langchain-openai) (25.0)\n",
            "Requirement already satisfied: pydantic>=2.7.4 in /usr/local/lib/python3.12/dist-packages (from langchain-core<1.0.0,>=0.3.76->langchain-openai) (2.11.7)\n",
            "Requirement already satisfied: anyio<5,>=3.5.0 in /usr/local/lib/python3.12/dist-packages (from openai<2.0.0,>=1.104.2->langchain-openai) (4.10.0)\n",
            "Requirement already satisfied: distro<2,>=1.7.0 in /usr/local/lib/python3.12/dist-packages (from openai<2.0.0,>=1.104.2->langchain-openai) (1.9.0)\n",
            "Requirement already satisfied: httpx<1,>=0.23.0 in /usr/local/lib/python3.12/dist-packages (from openai<2.0.0,>=1.104.2->langchain-openai) (0.28.1)\n",
            "Requirement already satisfied: jiter<1,>=0.4.0 in /usr/local/lib/python3.12/dist-packages (from openai<2.0.0,>=1.104.2->langchain-openai) (0.10.0)\n",
            "Requirement already satisfied: sniffio in /usr/local/lib/python3.12/dist-packages (from openai<2.0.0,>=1.104.2->langchain-openai) (1.3.1)\n",
            "Requirement already satisfied: tqdm>4 in /usr/local/lib/python3.12/dist-packages (from openai<2.0.0,>=1.104.2->langchain-openai) (4.67.1)\n",
            "Requirement already satisfied: regex>=2022.1.18 in /usr/local/lib/python3.12/dist-packages (from tiktoken<1,>=0.7->langchain-openai) (2024.11.6)\n",
            "Requirement already satisfied: requests>=2.26.0 in /usr/local/lib/python3.12/dist-packages (from tiktoken<1,>=0.7->langchain-openai) (2.32.4)\n",
            "Requirement already satisfied: idna>=2.8 in /usr/local/lib/python3.12/dist-packages (from anyio<5,>=3.5.0->openai<2.0.0,>=1.104.2->langchain-openai) (3.10)\n",
            "Requirement already satisfied: certifi in /usr/local/lib/python3.12/dist-packages (from httpx<1,>=0.23.0->openai<2.0.0,>=1.104.2->langchain-openai) (2025.8.3)\n",
            "Requirement already satisfied: httpcore==1.* in /usr/local/lib/python3.12/dist-packages (from httpx<1,>=0.23.0->openai<2.0.0,>=1.104.2->langchain-openai) (1.0.9)\n",
            "Requirement already satisfied: h11>=0.16 in /usr/local/lib/python3.12/dist-packages (from httpcore==1.*->httpx<1,>=0.23.0->openai<2.0.0,>=1.104.2->langchain-openai) (0.16.0)\n",
            "Requirement already satisfied: jsonpointer>=1.9 in /usr/local/lib/python3.12/dist-packages (from jsonpatch<2.0,>=1.33->langchain-core<1.0.0,>=0.3.76->langchain-openai) (3.0.0)\n",
            "Requirement already satisfied: orjson>=3.9.14 in /usr/local/lib/python3.12/dist-packages (from langsmith>=0.3.45->langchain-core<1.0.0,>=0.3.76->langchain-openai) (3.11.3)\n",
            "Requirement already satisfied: requests-toolbelt>=1.0.0 in /usr/local/lib/python3.12/dist-packages (from langsmith>=0.3.45->langchain-core<1.0.0,>=0.3.76->langchain-openai) (1.0.0)\n",
            "Requirement already satisfied: zstandard>=0.23.0 in /usr/local/lib/python3.12/dist-packages (from langsmith>=0.3.45->langchain-core<1.0.0,>=0.3.76->langchain-openai) (0.24.0)\n",
            "Requirement already satisfied: annotated-types>=0.6.0 in /usr/local/lib/python3.12/dist-packages (from pydantic>=2.7.4->langchain-core<1.0.0,>=0.3.76->langchain-openai) (0.7.0)\n",
            "Requirement already satisfied: pydantic-core==2.33.2 in /usr/local/lib/python3.12/dist-packages (from pydantic>=2.7.4->langchain-core<1.0.0,>=0.3.76->langchain-openai) (2.33.2)\n",
            "Requirement already satisfied: typing-inspection>=0.4.0 in /usr/local/lib/python3.12/dist-packages (from pydantic>=2.7.4->langchain-core<1.0.0,>=0.3.76->langchain-openai) (0.4.1)\n",
            "Requirement already satisfied: charset_normalizer<4,>=2 in /usr/local/lib/python3.12/dist-packages (from requests>=2.26.0->tiktoken<1,>=0.7->langchain-openai) (3.4.3)\n",
            "Requirement already satisfied: urllib3<3,>=1.21.1 in /usr/local/lib/python3.12/dist-packages (from requests>=2.26.0->tiktoken<1,>=0.7->langchain-openai) (2.5.0)\n",
            "Downloading langchain_openai-0.3.33-py3-none-any.whl (74 kB)\n",
            "\u001b[?25l   \u001b[90m━━━━━━━━━━━━━━━━━━━━━━━━━━━━━━━━━━━━━━━━\u001b[0m \u001b[32m0.0/75.0 kB\u001b[0m \u001b[31m?\u001b[0m eta \u001b[36m-:--:--\u001b[0m\r\u001b[2K   \u001b[90m━━━━━━━━━━━━━━━━━━━━━━━━━━━━━━━━━━━━━━━━\u001b[0m \u001b[32m75.0/75.0 kB\u001b[0m \u001b[31m2.1 MB/s\u001b[0m eta \u001b[36m0:00:00\u001b[0m\n",
            "\u001b[?25hInstalling collected packages: langchain-openai\n",
            "Successfully installed langchain-openai-0.3.33\n"
          ]
        }
      ]
    },
    {
      "cell_type": "code",
      "source": [
        "!pip install -U langchain-community"
      ],
      "metadata": {
        "colab": {
          "base_uri": "https://localhost:8080/"
        },
        "id": "bVH3wJa38hXB",
        "outputId": "121f428d-b007-4930-d251-b615bd2f0f7b"
      },
      "execution_count": 4,
      "outputs": [
        {
          "output_type": "stream",
          "name": "stdout",
          "text": [
            "Collecting langchain-community\n",
            "  Downloading langchain_community-0.3.29-py3-none-any.whl.metadata (2.9 kB)\n",
            "Requirement already satisfied: langchain-core<2.0.0,>=0.3.75 in /usr/local/lib/python3.12/dist-packages (from langchain-community) (0.3.76)\n",
            "Requirement already satisfied: langchain<2.0.0,>=0.3.27 in /usr/local/lib/python3.12/dist-packages (from langchain-community) (0.3.27)\n",
            "Requirement already satisfied: SQLAlchemy<3,>=1.4 in /usr/local/lib/python3.12/dist-packages (from langchain-community) (2.0.43)\n",
            "Collecting requests<3,>=2.32.5 (from langchain-community)\n",
            "  Downloading requests-2.32.5-py3-none-any.whl.metadata (4.9 kB)\n",
            "Requirement already satisfied: PyYAML>=5.3 in /usr/local/lib/python3.12/dist-packages (from langchain-community) (6.0.2)\n",
            "Requirement already satisfied: aiohttp<4.0.0,>=3.8.3 in /usr/local/lib/python3.12/dist-packages (from langchain-community) (3.12.15)\n",
            "Requirement already satisfied: tenacity!=8.4.0,<10,>=8.1.0 in /usr/local/lib/python3.12/dist-packages (from langchain-community) (8.5.0)\n",
            "Collecting dataclasses-json<0.7,>=0.6.7 (from langchain-community)\n",
            "  Downloading dataclasses_json-0.6.7-py3-none-any.whl.metadata (25 kB)\n",
            "Requirement already satisfied: pydantic-settings<3.0.0,>=2.10.1 in /usr/local/lib/python3.12/dist-packages (from langchain-community) (2.10.1)\n",
            "Requirement already satisfied: langsmith>=0.1.125 in /usr/local/lib/python3.12/dist-packages (from langchain-community) (0.4.24)\n",
            "Requirement already satisfied: httpx-sse<1.0.0,>=0.4.0 in /usr/local/lib/python3.12/dist-packages (from langchain-community) (0.4.1)\n",
            "Requirement already satisfied: numpy>=1.26.2 in /usr/local/lib/python3.12/dist-packages (from langchain-community) (2.0.2)\n",
            "Requirement already satisfied: aiohappyeyeballs>=2.5.0 in /usr/local/lib/python3.12/dist-packages (from aiohttp<4.0.0,>=3.8.3->langchain-community) (2.6.1)\n",
            "Requirement already satisfied: aiosignal>=1.4.0 in /usr/local/lib/python3.12/dist-packages (from aiohttp<4.0.0,>=3.8.3->langchain-community) (1.4.0)\n",
            "Requirement already satisfied: attrs>=17.3.0 in /usr/local/lib/python3.12/dist-packages (from aiohttp<4.0.0,>=3.8.3->langchain-community) (25.3.0)\n",
            "Requirement already satisfied: frozenlist>=1.1.1 in /usr/local/lib/python3.12/dist-packages (from aiohttp<4.0.0,>=3.8.3->langchain-community) (1.7.0)\n",
            "Requirement already satisfied: multidict<7.0,>=4.5 in /usr/local/lib/python3.12/dist-packages (from aiohttp<4.0.0,>=3.8.3->langchain-community) (6.6.4)\n",
            "Requirement already satisfied: propcache>=0.2.0 in /usr/local/lib/python3.12/dist-packages (from aiohttp<4.0.0,>=3.8.3->langchain-community) (0.3.2)\n",
            "Requirement already satisfied: yarl<2.0,>=1.17.0 in /usr/local/lib/python3.12/dist-packages (from aiohttp<4.0.0,>=3.8.3->langchain-community) (1.20.1)\n",
            "Collecting marshmallow<4.0.0,>=3.18.0 (from dataclasses-json<0.7,>=0.6.7->langchain-community)\n",
            "  Downloading marshmallow-3.26.1-py3-none-any.whl.metadata (7.3 kB)\n",
            "Collecting typing-inspect<1,>=0.4.0 (from dataclasses-json<0.7,>=0.6.7->langchain-community)\n",
            "  Downloading typing_inspect-0.9.0-py3-none-any.whl.metadata (1.5 kB)\n",
            "Requirement already satisfied: langchain-text-splitters<1.0.0,>=0.3.9 in /usr/local/lib/python3.12/dist-packages (from langchain<2.0.0,>=0.3.27->langchain-community) (0.3.11)\n",
            "Requirement already satisfied: pydantic<3.0.0,>=2.7.4 in /usr/local/lib/python3.12/dist-packages (from langchain<2.0.0,>=0.3.27->langchain-community) (2.11.7)\n",
            "Requirement already satisfied: jsonpatch<2.0,>=1.33 in /usr/local/lib/python3.12/dist-packages (from langchain-core<2.0.0,>=0.3.75->langchain-community) (1.33)\n",
            "Requirement already satisfied: typing-extensions>=4.7 in /usr/local/lib/python3.12/dist-packages (from langchain-core<2.0.0,>=0.3.75->langchain-community) (4.15.0)\n",
            "Requirement already satisfied: packaging>=23.2 in /usr/local/lib/python3.12/dist-packages (from langchain-core<2.0.0,>=0.3.75->langchain-community) (25.0)\n",
            "Requirement already satisfied: httpx<1,>=0.23.0 in /usr/local/lib/python3.12/dist-packages (from langsmith>=0.1.125->langchain-community) (0.28.1)\n",
            "Requirement already satisfied: orjson>=3.9.14 in /usr/local/lib/python3.12/dist-packages (from langsmith>=0.1.125->langchain-community) (3.11.3)\n",
            "Requirement already satisfied: requests-toolbelt>=1.0.0 in /usr/local/lib/python3.12/dist-packages (from langsmith>=0.1.125->langchain-community) (1.0.0)\n",
            "Requirement already satisfied: zstandard>=0.23.0 in /usr/local/lib/python3.12/dist-packages (from langsmith>=0.1.125->langchain-community) (0.24.0)\n",
            "Requirement already satisfied: python-dotenv>=0.21.0 in /usr/local/lib/python3.12/dist-packages (from pydantic-settings<3.0.0,>=2.10.1->langchain-community) (1.1.1)\n",
            "Requirement already satisfied: typing-inspection>=0.4.0 in /usr/local/lib/python3.12/dist-packages (from pydantic-settings<3.0.0,>=2.10.1->langchain-community) (0.4.1)\n",
            "Requirement already satisfied: charset_normalizer<4,>=2 in /usr/local/lib/python3.12/dist-packages (from requests<3,>=2.32.5->langchain-community) (3.4.3)\n",
            "Requirement already satisfied: idna<4,>=2.5 in /usr/local/lib/python3.12/dist-packages (from requests<3,>=2.32.5->langchain-community) (3.10)\n",
            "Requirement already satisfied: urllib3<3,>=1.21.1 in /usr/local/lib/python3.12/dist-packages (from requests<3,>=2.32.5->langchain-community) (2.5.0)\n",
            "Requirement already satisfied: certifi>=2017.4.17 in /usr/local/lib/python3.12/dist-packages (from requests<3,>=2.32.5->langchain-community) (2025.8.3)\n",
            "Requirement already satisfied: greenlet>=1 in /usr/local/lib/python3.12/dist-packages (from SQLAlchemy<3,>=1.4->langchain-community) (3.2.4)\n",
            "Requirement already satisfied: anyio in /usr/local/lib/python3.12/dist-packages (from httpx<1,>=0.23.0->langsmith>=0.1.125->langchain-community) (4.10.0)\n",
            "Requirement already satisfied: httpcore==1.* in /usr/local/lib/python3.12/dist-packages (from httpx<1,>=0.23.0->langsmith>=0.1.125->langchain-community) (1.0.9)\n",
            "Requirement already satisfied: h11>=0.16 in /usr/local/lib/python3.12/dist-packages (from httpcore==1.*->httpx<1,>=0.23.0->langsmith>=0.1.125->langchain-community) (0.16.0)\n",
            "Requirement already satisfied: jsonpointer>=1.9 in /usr/local/lib/python3.12/dist-packages (from jsonpatch<2.0,>=1.33->langchain-core<2.0.0,>=0.3.75->langchain-community) (3.0.0)\n",
            "Requirement already satisfied: annotated-types>=0.6.0 in /usr/local/lib/python3.12/dist-packages (from pydantic<3.0.0,>=2.7.4->langchain<2.0.0,>=0.3.27->langchain-community) (0.7.0)\n",
            "Requirement already satisfied: pydantic-core==2.33.2 in /usr/local/lib/python3.12/dist-packages (from pydantic<3.0.0,>=2.7.4->langchain<2.0.0,>=0.3.27->langchain-community) (2.33.2)\n",
            "Collecting mypy-extensions>=0.3.0 (from typing-inspect<1,>=0.4.0->dataclasses-json<0.7,>=0.6.7->langchain-community)\n",
            "  Downloading mypy_extensions-1.1.0-py3-none-any.whl.metadata (1.1 kB)\n",
            "Requirement already satisfied: sniffio>=1.1 in /usr/local/lib/python3.12/dist-packages (from anyio->httpx<1,>=0.23.0->langsmith>=0.1.125->langchain-community) (1.3.1)\n",
            "Downloading langchain_community-0.3.29-py3-none-any.whl (2.5 MB)\n",
            "\u001b[2K   \u001b[90m━━━━━━━━━━━━━━━━━━━━━━━━━━━━━━━━━━━━━━━━\u001b[0m \u001b[32m2.5/2.5 MB\u001b[0m \u001b[31m34.6 MB/s\u001b[0m eta \u001b[36m0:00:00\u001b[0m\n",
            "\u001b[?25hDownloading dataclasses_json-0.6.7-py3-none-any.whl (28 kB)\n",
            "Downloading requests-2.32.5-py3-none-any.whl (64 kB)\n",
            "\u001b[2K   \u001b[90m━━━━━━━━━━━━━━━━━━━━━━━━━━━━━━━━━━━━━━━━\u001b[0m \u001b[32m64.7/64.7 kB\u001b[0m \u001b[31m4.4 MB/s\u001b[0m eta \u001b[36m0:00:00\u001b[0m\n",
            "\u001b[?25hDownloading marshmallow-3.26.1-py3-none-any.whl (50 kB)\n",
            "\u001b[2K   \u001b[90m━━━━━━━━━━━━━━━━━━━━━━━━━━━━━━━━━━━━━━━━\u001b[0m \u001b[32m50.9/50.9 kB\u001b[0m \u001b[31m3.2 MB/s\u001b[0m eta \u001b[36m0:00:00\u001b[0m\n",
            "\u001b[?25hDownloading typing_inspect-0.9.0-py3-none-any.whl (8.8 kB)\n",
            "Downloading mypy_extensions-1.1.0-py3-none-any.whl (5.0 kB)\n",
            "Installing collected packages: requests, mypy-extensions, marshmallow, typing-inspect, dataclasses-json, langchain-community\n",
            "  Attempting uninstall: requests\n",
            "    Found existing installation: requests 2.32.4\n",
            "    Uninstalling requests-2.32.4:\n",
            "      Successfully uninstalled requests-2.32.4\n",
            "\u001b[31mERROR: pip's dependency resolver does not currently take into account all the packages that are installed. This behaviour is the source of the following dependency conflicts.\n",
            "google-colab 1.0.0 requires requests==2.32.4, but you have requests 2.32.5 which is incompatible.\u001b[0m\u001b[31m\n",
            "\u001b[0mSuccessfully installed dataclasses-json-0.6.7 langchain-community-0.3.29 marshmallow-3.26.1 mypy-extensions-1.1.0 requests-2.32.5 typing-inspect-0.9.0\n"
          ]
        }
      ]
    },
    {
      "cell_type": "code",
      "source": [
        "from langchain.document_loaders import DirectoryLoader, TextLoader\n",
        "from langchain.text_splitter import CharacterTextSplitter\n",
        "from langchain_openai import OpenAIEmbeddings\n",
        "from langchain_chroma import Chroma"
      ],
      "metadata": {
        "id": "bkDX07z48QBx"
      },
      "execution_count": 5,
      "outputs": []
    },
    {
      "cell_type": "code",
      "execution_count": 36,
      "metadata": {
        "id": "yLkkzGSOv88t"
      },
      "outputs": [],
      "source": [
        "from openai import OpenAI\n",
        "from google.colab import userdata\n",
        "import os\n",
        "from IPython.display import Markdown, update_display\n",
        "import glob\n",
        "import numpy as np\n",
        "from sklearn.manifold import TSNE\n",
        "import plotly.graph_objects as go"
      ]
    },
    {
      "cell_type": "code",
      "source": [
        "open_ai_key = userdata.get('OPENAI_API_KEY')\n",
        "os.environ['OPENAI_API_KEY'] = open_ai_key\n",
        "\n",
        "openai = OpenAI()\n",
        "MODEL = 'gpt-4o-mini'\n"
      ],
      "metadata": {
        "id": "9cES_CxvxBsd"
      },
      "execution_count": 7,
      "outputs": []
    },
    {
      "cell_type": "code",
      "source": [
        "system_prompt = 'You are a content creator for a company that sells pet clothing.'\n",
        "pages_name = ['about', 'contact', 'news']\n",
        "products_name = ['Leash', 'Coverall', 'Cape', 'bathrobe', 'Waterproof rain coat', 'Paw Cleaner', 'Donut Bed']\n",
        "sales_month = ['January', 'February', 'March', 'April', 'May', 'June', 'July', 'August', 'September', 'October', 'November', 'December']\n",
        "\n",
        "try:\n",
        "  os.mkdir('knowledge-base')\n",
        "except FileExistsError:\n",
        "  print(\"Dir already created\")"
      ],
      "metadata": {
        "id": "tAlPqh8AxVmv"
      },
      "execution_count": 25,
      "outputs": []
    },
    {
      "cell_type": "code",
      "source": [
        "messages = []\n",
        "messages.append({\"role\": \"system\", \"content\": system_prompt})\n",
        "\n",
        "def create_pages(user_prompt, response, page_name, folder_type):\n",
        "  messages.append({\"role\": \"user\", \"content\": user_prompt})\n",
        "  stream = openai.chat.completions.create(\n",
        "          model=MODEL,\n",
        "          messages=messages,\n",
        "          stream=True\n",
        "      )\n",
        "\n",
        "  display_handle = display(Markdown(\"\"), display_id=True)\n",
        "  for chunk in stream:\n",
        "      response += chunk.choices[0].delta.content or ''\n",
        "      response = response.replace(\"```\",\"\").replace(\"markdown\", \"\")\n",
        "  messages.append({'role' : 'user', 'content' : f' Given the {page_name} page: {response}.'})\n",
        "\n",
        "  try:\n",
        "    os.mkdir(f'knowledge-base/{folder_type}/')\n",
        "  except FileExistsError:\n",
        "    print(\"Dir already created\")\n",
        "\n",
        "  with open(f'knowledge-base/{folder_type}/{page_name}.md', 'w') as f:\n",
        "    f.write(response)\n",
        "\n",
        ""
      ],
      "metadata": {
        "id": "xcVBy7V1z5vY"
      },
      "execution_count": 23,
      "outputs": []
    },
    {
      "cell_type": "code",
      "source": [
        "folder_type = 'company'\n",
        "for page_name in pages_name:\n",
        "  response = ''\n",
        "  user_prompt = f'Can you please write a {page_name} page for the Cara Pets clothing company?'\n",
        "  create_pages(user_prompt, response, page_name, folder_type)\n",
        "\n",
        "print(messages)"
      ],
      "metadata": {
        "colab": {
          "base_uri": "https://localhost:8080/",
          "height": 89
        },
        "id": "FeGsK4XB0hHd",
        "outputId": "5117d131-a01b-427d-c7a9-96fab83b7270"
      },
      "execution_count": 26,
      "outputs": [
        {
          "output_type": "display_data",
          "data": {
            "text/plain": [
              "<IPython.core.display.Markdown object>"
            ],
            "text/markdown": ""
          },
          "metadata": {}
        },
        {
          "output_type": "display_data",
          "data": {
            "text/plain": [
              "<IPython.core.display.Markdown object>"
            ],
            "text/markdown": ""
          },
          "metadata": {}
        },
        {
          "output_type": "stream",
          "name": "stdout",
          "text": [
            "Dir already created\n"
          ]
        },
        {
          "output_type": "display_data",
          "data": {
            "text/plain": [
              "<IPython.core.display.Markdown object>"
            ],
            "text/markdown": ""
          },
          "metadata": {}
        },
        {
          "output_type": "stream",
          "name": "stdout",
          "text": [
            "Dir already created\n",
            "[{'role': 'system', 'content': 'You are a content creator for a company that sells pet clothing.'}, {'role': 'user', 'content': 'Can you please write a about page for the Cara Pets clothing company?'}, {'role': 'user', 'content': ' Given the about page: **About Us - Cara Pets Clothing**\\n\\nWelcome to Cara Pets Clothing, where style meets comfort for your beloved furry companions! Founded with a passion for pets and a love for fashion, we are dedicated to providing high-quality, trendy, and comfortable clothing for pets of all shapes and sizes. \\n\\nAt Cara Pets, we understand that pets are more than just animals—they are family. Our mission is to celebrate the unique personalities of each pet by offering a diverse range of clothing that reflects their character and enhances their style. From cozy sweaters and chic jackets to fun costumes and stylish accessories, we have something special for every pet, no matter the occasion.\\n\\nOur journey began with a simple vision: to create fashionable clothing that doesn’t compromise on quality or comfort. We meticulously source sustainable materials that are soft, durable, and suitable for all seasons, ensuring that your pets not only look good but feel great too. Every piece in our collection is designed with your pet’s needs in mind, offering easy fit and functionality for their active lifestyle.\\n\\nWe believe that every pet deserves to strut their stuff with confidence. That’s why our designs cater to all breeds and sizes, celebrating the beauty and charm of pets everywhere. Our commitment to inclusivity means that every pet, from the tiniest teacup pup to the largest gentle giant, can enjoy our stylish offerings.\\n\\nAt Cara Pets Clothing, we are also dedicated to giving back to the pet community. A portion of our profits goes to local animal shelters and rescue organizations, helping pets in need find loving homes. We believe in supporting the causes that matter most to our customers and making a positive impact on the lives of animals everywhere.\\n\\nJoin us on our journey as we continue to bring joy to pets and their owners through fashionable and functional clothing. We invite you to explore our collection and find the perfect outfit for your furry friend. After all, every pet deserves to be stylish!\\n\\nThank you for choosing Cara Pets Clothing, where the love for pets meets a flair for fashion. Your support helps us make a difference, one paw at a time!.'}, {'role': 'user', 'content': 'Can you please write a about page for the Cara Pets clothing company?'}, {'role': 'user', 'content': \" Given the about page: **About Us - Cara Pets Clothing**\\n\\nWelcome to Cara Pets Clothing, where your pet's style shines as brightly as their personality! Established by passionate pet lovers, Cara Pets is on a mission to blend fashion and comfort for our furry friends, crafting high-quality clothing that celebrates the bond between pets and their owners.\\n\\nAt Cara Pets, we believe that pets are more than just companions—they're family members. That's why we’re committed to offering a diverse range of apparel that caters to the unique tastes and needs of every pet. Whether your furry friend is a fashionista looking for a glamorous outfit or a playful pup in need of a cozy sweater, we have something special for every occasion.\\n\\nOur journey began from a simple love for pets and an understanding of their lifestyles. We meticulously select sustainable, soft materials that offer both durability and comfort, catering to pets of all shapes and sizes. Each piece in our carefully curated collection is designed to ensure a perfect fit, allowing your pets to move freely while looking their best.\\n\\nInclusivity is at the heart of our brand. We celebrate all breeds—from spirited small dogs to majestic large ones—ensuring that no pet is left behind in the world of fashion. Our goal is to empower every pet to express themselves confidently in our stylish outfits, whether they're out for a walk, attending a festive gathering, or simply lounging at home.\\n\\nCara Pets Clothing also places great emphasis on giving back to the community. A portion of every purchase goes directly to animal shelters and rescue organizations. We firmly believe in supporting the causes that matter to pet lovers everywhere, helping to provide a brighter future for animals in need.\\n\\nJoin our growing family of pet enthusiasts who believe that fashion should be fun, functional, and full of love. We invite you to explore our collection and find the perfect outfit that will make your pet stand out. Thank you for choosing Cara Pets Clothing—where every tail wag tells a stylish story! Together, let’s make the world a little cuter, one paw at a time..\"}, {'role': 'user', 'content': 'Can you please write a contact page for the Cara Pets clothing company?'}, {'role': 'user', 'content': ' Given the contact page: **Contact Us - Cara Pets Clothing**\\n\\nWe’re here to help! At Cara Pets Clothing, your satisfaction is our top priority. Whether you have questions about our products, need assistance with an order, or just want to say hello, we’d love to hear from you!\\n\\n**Customer Service Hours:**\\nMonday to Friday: 9 AM - 5 PM (EST)  \\nSaturday & Sunday: Closed\\n\\n**Get in Touch:**\\n\\n**Email:**  \\nFor inquiries, please reach out to us at support@carapetsclothing.com. We aim to respond to all emails within 24 hours.\\n\\n**Phone:**  \\nPrefer to speak with someone directly? Give us a call at (555) 123-4567 during our customer service hours. We’re happy to assist you!\\n\\n**Address:**  \\nCara Pets Clothing  \\n123 Paws Lane  \\nCutesville, ST 12345  \\nUnited States\\n\\n**Social Media:**  \\nConnect with us and join our community of pet lovers! Follow us on social media for the latest updates, promotions, and adorable pet photos:  \\n- Instagram: [@carapetsclothing](https://www.instagram.com/carapetsclothing)  \\n- Facebook: [facebook.com/carapetsclothing](https://www.facebook.com/carapetsclothing)  \\n- Twitter: [@carapets](https://www.twitter.com/carapets)  \\n\\n**Feedback:**  \\nYour feedback is essential to us! If you have any suggestions or comments, please feel free to share your thoughts with us. We’re always looking for ways to improve and enhance your shopping experience.\\n\\nThank you for reaching out to Cara Pets Clothing. We look forward to hearing from you and helping you find the perfect outfit for your furry friend!.'}, {'role': 'user', 'content': 'Can you please write a news page for the Cara Pets clothing company?'}, {'role': 'user', 'content': \" Given the news page: **News - Cara Pets Clothing**\\n\\nWelcome to the Cara Pets Clothing News page! Here, you’ll find the latest updates, exciting announcements, and heartwarming stories from our journey in crafting stylish apparel for your beloved pets. We’re thrilled to share our milestones, new product launches, community involvement, and more with you.\\n\\n### Latest Updates\\n\\n#### New Collection Launch: Fall Furry Fashion!\\n**Date: September 15, 2023**  \\nWe’re excited to announce our newest collection—Fall Furry Fashion! As the leaves change and the weather cools down, it's time for your pets to step out in style. Our latest line features cozy sweaters, chic jackets, and adorable accessories designed to keep your furry friends warm and fashionable. Explore our collection today and find the perfect outfit for every autumn adventure!\\n\\n#### Cara Pets Supports Local Shelters\\n**Date: August 20, 2023**  \\nAt Cara Pets, we believe in giving back. We’re proud to announce our partnership with local animal shelters. A portion of our profits from every purchase will go directly to helping animals in need find loving homes. Together, we can make a difference for pets in our community!\\n\\n#### Join Us at the Cutesville Pet Fair\\n**Date: July 10, 2023**  \\nMark your calendars! We’re thrilled to be a part of the upcoming Cutesville Pet Fair on August 5th, 2023. Join us for a day filled with fun activities, adorable pets, and exclusive Cara Pets discounts! Bring your furry friends to meet us, grab some stylish gear, and enjoy the festivities.\\n\\n### Spotlight on Our Customers\\n**Pet of the Month: Bella the Beagle**  \\nCongratulations to Bella, our September Pet of the Month! Bella is rocking our Cozy Nights Sweater in vibrant pink and spreading joy wherever she goes. We love seeing our furry friends enjoying their Cara Pets outfits. Share your pet’s fashion moment with us on social media using #CaraPetsStyle for a chance to be featured!\\n\\n### Tips & Tricks for Pet Fashion\\nCheck out our blog for helpful tips on dressing your pet for various occasions. From seasonal fashion advice to styling accessories, we offer expert insights to help your furry friend stay stylish and comfortable!\\n\\n### We Want to Hear from You!\\nWe love engaging with our community and welcome your feedback. If you have any news, stories, or events related to pets and fashion that you’d like to share, feel free to contact us. Your stories inspire us and help us grow!\\n\\nThank you for being a valued part of the Cara Pets family. Stay tuned for more exciting updates, product launches, and community initiatives. Together, let's keep the love for pets stylish and vibrant!\\n\\nFor regular updates, don’t forget to follow us on social media and subscribe to our newsletter!.\"}]\n"
          ]
        }
      ]
    },
    {
      "cell_type": "code",
      "source": [
        "messages"
      ],
      "metadata": {
        "colab": {
          "base_uri": "https://localhost:8080/"
        },
        "id": "BFgk_Swa2IbD",
        "outputId": "34776efd-0243-46e1-c647-284c40980d12"
      },
      "execution_count": 20,
      "outputs": [
        {
          "output_type": "execute_result",
          "data": {
            "text/plain": [
              "[{'role': 'system',\n",
              "  'content': 'You are a content creator for a company that sells pet clothing.'},\n",
              " {'role': 'user',\n",
              "  'content': \" Given the about page: Great! I’m ready to help you create engaging content related to pet clothing. Whether you need blog posts, social media updates, product descriptions, or any other type of content, just let me know what you have in mind or what specific topics you're interested in!.\"},\n",
              " {'role': 'user',\n",
              "  'content': ' Given the contact page: Sure! Here are a few ideas related to pet clothing that you might find engaging:\\n\\n### Blog Post Ideas\\n1. **\"The Benefits of Dressing Your Pet: More Than Just a Fashion Statement\"**\\n   - Discuss how clothing can provide protection from the elements, promote safety, and even express personality.\\n\\n2. **\"Choosing the Right Outfits for Your Pet: A Complete Guide\"**\\n   - Tips on how to select the right size, fabric, and style for different breeds and personalities.\\n\\n3. **\"Seasonal Pet Fashion Trends: What’s Hot This Year?\"**\\n   - A look at seasonal styles and must-have items for pets throughout the year.\\n\\n4. **\"DIY Pet Clothing: Creative Ideas for Fashion-Forward Furballs\"**\\n   - Step-by-step guides on how to create your own pet outfits from materials you have at home.\\n\\n### Social Media Updates\\n1. **\"Is your pet ready for winter? ❄️ Check out our cozy sweaters that keep them warm while looking fabulous! 🐾✨ #PetFashion #WinterWear\"**\\n   - Accompany this with high-quality images of pets in your sweaters.\\n\\n2. **\"Everyday should be a runway for your furry friend! 📸✨ Share a photo of your pet in our latest gear using #FurryFashionista for a chance to be featured!\"**\\n   - Encourage user engagement by inviting customers to share their photos.\\n\\n3. **\"Ever wondered how to measure your pet for the perfect fit? 🐕📏 Check out our sizing guide and ensure your pet is comfy and stylish! #PetClothingTips\"**\\n\\n### Product Descriptions\\n1. **\"Ultra Cozy Knit Sweater\"**\\n   - “Wrap your pet in warmth with our Ultra Cozy Knit Sweater! Made from soft, breathable fabric, this sweater is designed for maximum comfort and style. Available in various colors and sizes to ensure a perfect fit for every furry friend!”\\n\\n2. **\"Rainy Day Jacket\"**\\n   - “Don’t let rainy days dampen your adventures! Our stylish Rainy Day Jacket features a waterproof exterior and a soft lining to keep your pet dry and comfortable. Safety first with reflective strips for visibility during those evening walks.”\\n\\n3. **\"Chic Party Dress\"**\\n   - “Make your pup the star of any paw-ty with our Chic Party Dress. Featuring a delightful floral pattern and a comfortable fit, this dress is perfect for celebrations and special occasions. Your pet will be turning heads and stealing hearts!”\\n\\nIf you\\'re interested in a specific type of content or have any other particular topics in mind, feel free to let me know!.'},\n",
              " {'role': 'user',\n",
              "  'content': ' Given the news page: Here are a few additional content ideas that can further enhance your engagement with pet clothing enthusiasts:\\n\\n### Blog Post Ideas\\n5. **\"Pet Clothing Care 101: How to Keep Your Furry Friend’s Wardrobe in Top Shape\"**\\n   - Tips on washing, drying, and storing pet clothes to ensure longevity.\\n\\n6. **\"The Best Materials for Pet Clothing: Comfort vs. Durability\"**\\n   - An exploration of various fabric types and which are best suited for different weather conditions and activities.\\n\\n7. **\"Pet Fashion Icons: A Look at Celebrity Pets and Their Must-Have Looks\"**\\n   - Highlighting popular pets from social media and describing their standout outfits and trends.\\n\\n8. **\"Planning for a Pet-Friendly Halloween: Costumes Your Pup Will Love!\"**\\n   - A seasonal guide featuring creative costume ideas for pets, including DIY options.\\n\\n### Social Media Updates\\n4. **\"Turn heads at the dog park! 🌳🐶 Check out our latest arrivals and find the perfect outfit for your adventurous pup! #DogParkFashion #PetStyle\"**\\n   - Pair with vibrant photos showcasing pets enjoying the outdoors in your apparel.\\n\\n5. **\"Spotlight on our top-selling item this month! 🎉 The Cozy Comfy Hoodie has been a hit — see why pet parents can’t get enough of it! 🐾❤️ #PetClothing #BestSellers\"**\\n   - Engage followers by sharing customer reviews and testimonials.\\n\\n6. **\"Giving back to our furry friends! 🐾💕 For every purchase this month, we donate a portion to local animal shelters. Shop for a cause! #PetsHelpingPets\"**\\n   - Promote a cause-related marketing campaign that resonates with pet owners.\\n\\n### Product Descriptions\\n4. **\"Stylish Rain Boots\"**\\n   - “Don’t let a little rain ruin playtime! Our stylish Rain Boots are designed to keep your pet’s paws dry and stylish. Lightweight and easy to put on, they feature a non-slip sole for safety on slippery surfaces.”\\n\\n5. **\"Luxurious Pajama Set\"**\\n   - “Give your pet the gift of comfort with our Luxurious Pajama Set! Made from ultra-soft fabric, this set makes for perfect lounging and sleeping. Available in playful patterns that reflect your pet’s personality!”\\n\\n6. **\"Summer Sunglasses for Pets\"**\\n   - “Keep those precious eyes safe from the sun with our fashionable Summer Sunglasses! Featuring UV protection and a comfortable fit, your pet will not only look cool but stay safe during those sunny adventures.”\\n\\nFeel free to modify any of these ideas to better fit your brand\\'s voice or style. If you have a specific campaign or season in mind, I can help create tailored content for that as well!.'}]"
            ]
          },
          "metadata": {},
          "execution_count": 20
        }
      ]
    },
    {
      "cell_type": "code",
      "source": [
        "messages = []\n",
        "messages.append({\"role\": \"system\", \"content\": system_prompt})\n",
        "with open('knowledge-base/company/about.md', 'r') as f:\n",
        "  about_page = f.read()\n",
        "  messages.append({\"role\": \"user\", \"content\": f'Given the about page {about_page}'})\n",
        "folder_type = 'products'\n",
        "for product_name in products_name:\n",
        "  response = ''\n",
        "  user_prompt = f'Can you please write a presentation page for a product called {product_name} sold from Cara Pets clothing company?'\n",
        "  create_pages(user_prompt, response, product_name, folder_type)\n"
      ],
      "metadata": {
        "colab": {
          "base_uri": "https://localhost:8080/",
          "height": 121
        },
        "id": "YJg_bPoS0sC_",
        "outputId": "96958ea6-39e3-48b2-e616-a4260d07d1f1"
      },
      "execution_count": 27,
      "outputs": [
        {
          "output_type": "display_data",
          "data": {
            "text/plain": [
              "<IPython.core.display.Markdown object>"
            ],
            "text/markdown": ""
          },
          "metadata": {}
        },
        {
          "output_type": "display_data",
          "data": {
            "text/plain": [
              "<IPython.core.display.Markdown object>"
            ],
            "text/markdown": ""
          },
          "metadata": {}
        },
        {
          "output_type": "stream",
          "name": "stdout",
          "text": [
            "Dir already created\n"
          ]
        },
        {
          "output_type": "display_data",
          "data": {
            "text/plain": [
              "<IPython.core.display.Markdown object>"
            ],
            "text/markdown": ""
          },
          "metadata": {}
        },
        {
          "output_type": "stream",
          "name": "stdout",
          "text": [
            "Dir already created\n"
          ]
        },
        {
          "output_type": "display_data",
          "data": {
            "text/plain": [
              "<IPython.core.display.Markdown object>"
            ],
            "text/markdown": ""
          },
          "metadata": {}
        },
        {
          "output_type": "stream",
          "name": "stdout",
          "text": [
            "Dir already created\n"
          ]
        },
        {
          "output_type": "display_data",
          "data": {
            "text/plain": [
              "<IPython.core.display.Markdown object>"
            ],
            "text/markdown": ""
          },
          "metadata": {}
        },
        {
          "output_type": "stream",
          "name": "stdout",
          "text": [
            "Dir already created\n"
          ]
        },
        {
          "output_type": "display_data",
          "data": {
            "text/plain": [
              "<IPython.core.display.Markdown object>"
            ],
            "text/markdown": ""
          },
          "metadata": {}
        },
        {
          "output_type": "stream",
          "name": "stdout",
          "text": [
            "Dir already created\n"
          ]
        },
        {
          "output_type": "display_data",
          "data": {
            "text/plain": [
              "<IPython.core.display.Markdown object>"
            ],
            "text/markdown": ""
          },
          "metadata": {}
        },
        {
          "output_type": "stream",
          "name": "stdout",
          "text": [
            "Dir already created\n"
          ]
        }
      ]
    },
    {
      "cell_type": "code",
      "source": [
        "messages = []\n",
        "messages.append({\"role\": \"system\", \"content\": system_prompt})\n",
        "with open('knowledge-base/company/about.md', 'r') as f:\n",
        "  about_page = f.read()\n",
        "  messages.append({\"role\": \"user\", \"content\": f'Given the about page {about_page}'})\n",
        "folder_type = 'sales'\n",
        "for sales in sales_month:\n",
        "  response = ''\n",
        "  user_prompt = f'Can you please write a sales table for the month {sales} using random product from this list {products_name}?'\n",
        "  create_pages(user_prompt, response, sales, folder_type)"
      ],
      "metadata": {
        "colab": {
          "base_uri": "https://localhost:8080/",
          "height": 208
        },
        "id": "irQ1iSLd2gZm",
        "outputId": "1d2ccd14-d4ea-4def-cf75-24448a5b3bdd"
      },
      "execution_count": 28,
      "outputs": [
        {
          "output_type": "display_data",
          "data": {
            "text/plain": [
              "<IPython.core.display.Markdown object>"
            ],
            "text/markdown": ""
          },
          "metadata": {}
        },
        {
          "output_type": "display_data",
          "data": {
            "text/plain": [
              "<IPython.core.display.Markdown object>"
            ],
            "text/markdown": ""
          },
          "metadata": {}
        },
        {
          "output_type": "stream",
          "name": "stdout",
          "text": [
            "Dir already created\n"
          ]
        },
        {
          "output_type": "display_data",
          "data": {
            "text/plain": [
              "<IPython.core.display.Markdown object>"
            ],
            "text/markdown": ""
          },
          "metadata": {}
        },
        {
          "output_type": "stream",
          "name": "stdout",
          "text": [
            "Dir already created\n"
          ]
        },
        {
          "output_type": "display_data",
          "data": {
            "text/plain": [
              "<IPython.core.display.Markdown object>"
            ],
            "text/markdown": ""
          },
          "metadata": {}
        },
        {
          "output_type": "stream",
          "name": "stdout",
          "text": [
            "Dir already created\n"
          ]
        },
        {
          "output_type": "display_data",
          "data": {
            "text/plain": [
              "<IPython.core.display.Markdown object>"
            ],
            "text/markdown": ""
          },
          "metadata": {}
        },
        {
          "output_type": "stream",
          "name": "stdout",
          "text": [
            "Dir already created\n"
          ]
        },
        {
          "output_type": "display_data",
          "data": {
            "text/plain": [
              "<IPython.core.display.Markdown object>"
            ],
            "text/markdown": ""
          },
          "metadata": {}
        },
        {
          "output_type": "stream",
          "name": "stdout",
          "text": [
            "Dir already created\n"
          ]
        },
        {
          "output_type": "display_data",
          "data": {
            "text/plain": [
              "<IPython.core.display.Markdown object>"
            ],
            "text/markdown": ""
          },
          "metadata": {}
        },
        {
          "output_type": "stream",
          "name": "stdout",
          "text": [
            "Dir already created\n"
          ]
        },
        {
          "output_type": "display_data",
          "data": {
            "text/plain": [
              "<IPython.core.display.Markdown object>"
            ],
            "text/markdown": ""
          },
          "metadata": {}
        },
        {
          "output_type": "stream",
          "name": "stdout",
          "text": [
            "Dir already created\n"
          ]
        },
        {
          "output_type": "display_data",
          "data": {
            "text/plain": [
              "<IPython.core.display.Markdown object>"
            ],
            "text/markdown": ""
          },
          "metadata": {}
        },
        {
          "output_type": "stream",
          "name": "stdout",
          "text": [
            "Dir already created\n"
          ]
        },
        {
          "output_type": "display_data",
          "data": {
            "text/plain": [
              "<IPython.core.display.Markdown object>"
            ],
            "text/markdown": ""
          },
          "metadata": {}
        },
        {
          "output_type": "stream",
          "name": "stdout",
          "text": [
            "Dir already created\n"
          ]
        },
        {
          "output_type": "display_data",
          "data": {
            "text/plain": [
              "<IPython.core.display.Markdown object>"
            ],
            "text/markdown": ""
          },
          "metadata": {}
        },
        {
          "output_type": "stream",
          "name": "stdout",
          "text": [
            "Dir already created\n"
          ]
        },
        {
          "output_type": "display_data",
          "data": {
            "text/plain": [
              "<IPython.core.display.Markdown object>"
            ],
            "text/markdown": ""
          },
          "metadata": {}
        },
        {
          "output_type": "stream",
          "name": "stdout",
          "text": [
            "Dir already created\n"
          ]
        }
      ]
    },
    {
      "cell_type": "code",
      "source": [
        "folders = glob.glob('knowledge-base/*')\n",
        "text_loader_kwargs = {'encoding' : 'utf-8'}\n",
        "documents = []\n",
        "for folder in folders:\n",
        "  doc_type = os.path.basename(folder)\n",
        "  loader = DirectoryLoader(folder, glob='**/*.md', loader_cls=TextLoader, loader_kwargs=text_loader_kwargs)\n",
        "  folder_docs = loader.load()\n",
        "  print(folder_docs)\n",
        "  for doc in folder_docs:\n",
        "    doc.metadata['doc_type'] = doc_type\n",
        "    documents.append(doc)\n"
      ],
      "metadata": {
        "colab": {
          "base_uri": "https://localhost:8080/"
        },
        "id": "_v7FzJrl70UD",
        "outputId": "e1852abe-8c2f-40dc-d6cf-4e84ca0e06a8"
      },
      "execution_count": 40,
      "outputs": [
        {
          "output_type": "stream",
          "name": "stdout",
          "text": [
            "[Document(metadata={'source': 'knowledge-base/sales/December.md'}, page_content='Certainly! Below is a sales table for the month of December featuring random products from your list:\\n\\n| Date        | Product                   | Quantity Sold | Price per Unit | Total Revenue |\\n|-------------|---------------------------|---------------|----------------|---------------|\\n| December 1  | Waterproof Rain Coat      | 2             | $45.99         | $91.98        |\\n| December 5  | Donut Bed                 | 3             | $59.99         | $179.97       |\\n| December 10 | Bathrobe                  | 6             | $34.99         | $209.94       |\\n| December 12 | Paw Cleaner               | 7             | $24.99         | $174.93       |\\n| December 15 | Cape                      | 5             | $39.99         | $199.95       |\\n| December 20 | Coverall                  | 4             | $49.99         | $199.96       |\\n| December 24 | Leash                     | 8             | $19.99         | $159.92       |\\n| December 28 | Waterproof Rain Coat      | 1             | $45.99         | $45.99        |\\n| **TOTAL**    |                           | **36**        |                | **$1,282.64** |\\n\\nFeel free to adjust any numbers or details as necessary!'), Document(metadata={'source': 'knowledge-base/sales/September.md'}, page_content='Certainly! Below is a sales table for the month of September featuring random products from your list:\\n\\n| Date       | Product                   | Quantity Sold | Price per Unit | Total Revenue |\\n|------------|---------------------------|---------------|----------------|---------------|\\n| September 2| Waterproof Rain Coat      | 5             | $45.99         | $229.95       |\\n| September 5| Donut Bed                 | 4             | $59.99         | $239.96       |\\n| September 8| Bathrobe                  | 6             | $34.99         | $209.94       |\\n| September 12| Leash                    | 10            | $19.99         | $199.90       |\\n| September 15| Cape                     | 2             | $39.99         | $79.98        |\\n| September 20| Coverall                 | 3             | $49.99         | $149.97       |\\n| September 25| Paw Cleaner              | 7             | $24.99         | $174.93       |\\n| September 28| Leash                    | 5             | $19.99         | $99.95        |\\n| **TOTAL**   |                           | **42**        |                | **$1,374.58** |\\n\\nFeel free to adjust any of the figures as needed!'), Document(metadata={'source': 'knowledge-base/sales/January.md'}, page_content='Sure! Below is a sales table for the month of January featuring random products from your list:\\n\\n| Date       | Product                   | Quantity Sold | Price per Unit | Total Revenue |\\n|------------|---------------------------|---------------|----------------|---------------|\\n| January 1  | Waterproof Rain Coat      | 5             | $45.99         | $229.95       |\\n| January 3  | Donut Bed                 | 3             | $59.99         | $179.97       |\\n| January 5  | Bathrobe                  | 7             | $34.99         | $244.93       |\\n| January 8  | Leash                     | 10            | $19.99         | $199.90       |\\n| January 12 | Coverall                  | 4             | $49.99         | $199.96       |\\n| January 15 | Cape                      | 6             | $39.99         | $239.94       |\\n| January 20 | Paw Cleaner               | 8             | $24.99         | $199.92       |\\n| January 25 | Waterproof Rain Coat      | 2             | $45.99         | $91.98        |\\n| January 28 | Donut Bed                 | 1             | $59.99         | $59.99        |\\n| **TOTAL**   |                           | **46**        |                | **$1,689.54** |\\n\\nFeel free to adjust the quantities and prices as needed!'), Document(metadata={'source': 'knowledge-base/sales/October.md'}, page_content='Certainly! Below is a sales table for the month of October featuring random products from your list:\\n\\n| Date        | Product                   | Quantity Sold | Price per Unit | Total Revenue |\\n|-------------|---------------------------|---------------|----------------|---------------|\\n| October 1   | Donut Bed                 | 3             | $59.99         | $179.97       |\\n| October 4   | Waterproof Rain Coat      | 4             | $45.99         | $183.96       |\\n| October 8   | Paw Cleaner               | 10            | $24.99         | $249.90       |\\n| October 12  | Bathrobe                  | 5             | $34.99         | $174.95       |\\n| October 15  | Cape                      | 3             | $39.99         | $119.97       |\\n| October 19  | Coverall                  | 2             | $49.99         | $99.98        |\\n| October 24  | Leash                     | 7             | $19.99         | $139.93       |\\n| October 28  | Waterproof Rain Coat      | 1             | $45.99         | $45.99        |\\n| **TOTAL**    |                           | **45**        |                | **$1,196.58** |\\n\\nFeel free to adjust any figures or details as needed!'), Document(metadata={'source': 'knowledge-base/sales/August.md'}, page_content='Certainly! Below is a sales table for the month of August featuring random products from your list:\\n\\n| Date       | Product                   | Quantity Sold | Price per Unit | Total Revenue |\\n|------------|---------------------------|---------------|----------------|---------------|\\n| August 1   | Paw Cleaner               | 9             | $24.99         | $224.91       |\\n| August 3   | Cape                      | 4             | $39.99         | $159.96       |\\n| August 7   | Bathrobe                  | 3             | $34.99         | $104.97       |\\n| August 10  | Waterproof Rain Coat      | 2             | $45.99         | $91.98        |\\n| August 15  | Donut Bed                 | 5             | $59.99         | $299.95       |\\n| August 20  | Coverall                  | 6             | $49.99         | $299.94       |\\n| August 25  | Leash                     | 7             | $19.99         | $139.93       |\\n| August 30  | Waterproof Rain Coat      | 1             | $45.99         | $45.99        |\\n| **TOTAL**   |                           | **37**        |                | **$1,367.54** |\\n\\nFeel free to modify any figures or details as needed!'), Document(metadata={'source': 'knowledge-base/sales/May.md'}, page_content='Sure! Below is a sales table for the month of May featuring random products from your list:\\n\\n| Date       | Product                   | Quantity Sold | Price per Unit | Total Revenue |\\n|------------|---------------------------|---------------|----------------|---------------|\\n| May 2      | Donut Bed                 | 3             | $59.99         | $179.97       |\\n| May 5      | Waterproof Rain Coat      | 5             | $45.99         | $229.95       |\\n| May 10     | Cape                      | 6             | $39.99         | $239.94       |\\n| May 13     | Bathrobe                  | 4             | $34.99         | $139.96       |\\n| May 17     | Paw Cleaner               | 8             | $24.99         | $199.92       |\\n| May 21     | Coverall                  | 2             | $49.99         | $99.98        |\\n| May 25     | Leash                     | 7             | $19.99         | $139.93       |\\n| May 28     | Leash                     | 4             | $19.99         | $79.96        |\\n| **TOTAL**   |                           | **39**        |                | **$1,248.61** |\\n\\nFeel free to adjust the figures as you see fit!'), Document(metadata={'source': 'knowledge-base/sales/November.md'}, page_content='Certainly! Below is a sales table for the month of November featuring random products from your list:\\n\\n| Date        | Product                   | Quantity Sold | Price per Unit | Total Revenue |\\n|-------------|---------------------------|---------------|----------------|---------------|\\n| November 2  | Bathrobe                  | 4             | $34.99         | $139.96       |\\n| November 5  | Waterproof Rain Coat      | 3             | $45.99         | $137.97       |\\n| November 10 | Donut Bed                 | 2             | $59.99         | $119.98       |\\n| November 12 | Coverall                  | 6             | $49.99         | $299.94       |\\n| November 16 | Cape                      | 4             | $39.99         | $159.96       |\\n| November 20 | Paw Cleaner               | 8             | $24.99         | $199.92       |\\n| November 24 | Leash                     | 5             | $19.99         | $99.95        |\\n| November 28 | Bathrobe                  | 1             | $34.99         | $34.99        |\\n| **TOTAL**    |                           | **33**        |                | **$1,193.67** |\\n\\nFeel free to modify any figures as needed!'), Document(metadata={'source': 'knowledge-base/sales/July.md'}, page_content='Certainly! Below is a sales table for the month of July featuring random products from your list:\\n\\n| Date       | Product                   | Quantity Sold | Price per Unit | Total Revenue |\\n|------------|---------------------------|---------------|----------------|---------------|\\n| July 2     | Waterproof Rain Coat      | 6             | $45.99         | $275.94       |\\n| July 5     | Leash                     | 8             | $19.99         | $159.92       |\\n| July 9     | Donut Bed                 | 3             | $59.99         | $179.97       |\\n| July 12    | Cape                      | 5             | $39.99         | $199.95       |\\n| July 16    | Bathrobe                  | 4             | $34.99         | $139.96       |\\n| July 20    | Paw Cleaner               | 10            | $24.99         | $249.90       |\\n| July 24    | Coverall                  | 2             | $49.99         | $99.98        |\\n| July 28    | Leash                     | 7             | $19.99         | $139.93       |\\n| **TOTAL**   |                           | **45**        |                | **$1,145.55** |\\n\\nFeel free to adjust any numbers as you see fit!'), Document(metadata={'source': 'knowledge-base/sales/February.md'}, page_content='Certainly! Below is a sales table for the month of February featuring random products from your list:\\n\\n| Date       | Product                   | Quantity Sold | Price per Unit | Total Revenue |\\n|------------|---------------------------|---------------|----------------|---------------|\\n| February 1 | Leash                     | 8             | $19.99         | $159.92       |\\n| February 3 | Waterproof Rain Coat      | 4             | $45.99         | $183.96       |\\n| February 7 | Donut Bed                 | 2             | $59.99         | $119.98       |\\n| February 10| Bathrobe                  | 5             | $34.99         | $174.95       |\\n| February 14| Cape                      | 3             | $39.99         | $119.97       |\\n| February 18| Coverall                  | 6             | $49.99         | $299.94       |\\n| February 22| Paw Cleaner               | 10            | $24.99         | $249.90       |\\n| February 26| Leash                     | 7             | $19.99         | $139.93       |\\n| February 28| Waterproof Rain Coat      | 1             | $45.99         | $45.99        |\\n| **TOTAL**   |                           | **46**        |                | **$1,454.17** |\\n\\nFeel free to modify any of the figures as needed!'), Document(metadata={'source': 'knowledge-base/sales/April.md'}, page_content='Certainly! Below is a sales table for the month of April featuring random products from your list:\\n\\n| Date       | Product                   | Quantity Sold | Price per Unit | Total Revenue |\\n|------------|---------------------------|---------------|----------------|---------------|\\n| April 1    | Cape                      | 5             | $39.99         | $199.95       |\\n| April 4    | Bathrobe                  | 3             | $34.99         | $104.97       |\\n| April 8    | Waterproof Rain Coat      | 7             | $45.99         | $321.93       |\\n| April 12   | Leash                     | 10            | $19.99         | $199.90       |\\n| April 15   | Donut Bed                 | 2             | $59.99         | $119.98       |\\n| April 20   | Coverall                  | 4             | $49.99         | $199.96       |\\n| April 24   | Paw Cleaner               | 8             | $24.99         | $199.92       |\\n| April 28   | Waterproof Rain Coat      | 1             | $45.99         | $45.99        |\\n| **TOTAL**   |                           | **40**        |                | **$1,192.60** |\\n\\nFeel free to modify any figures or details as needed!'), Document(metadata={'source': 'knowledge-base/sales/June.md'}, page_content='Certainly! Below is a sales table for the month of June featuring random products from your list:\\n\\n| Date       | Product                   | Quantity Sold | Price per Unit | Total Revenue |\\n|------------|---------------------------|---------------|----------------|---------------|\\n| June 1     | Bathrobe                  | 6             | $34.99         | $209.94       |\\n| June 4     | Cape                      | 4             | $39.99         | $159.96       |\\n| June 8     | Leash                     | 10            | $19.99         | $199.90       |\\n| June 12    | Donut Bed                 | 2             | $59.99         | $119.98       |\\n| June 15    | Waterproof Rain Coat      | 3             | $45.99         | $137.97       |\\n| June 19    | Coverall                  | 5             | $49.99         | $249.95       |\\n| June 23    | Paw Cleaner               | 7             | $24.99         | $174.93       |\\n| June 27    | Leash                     | 5             | $19.99         | $99.95        |\\n| **TOTAL**   |                           | **42**        |                | **$1,193.58** |\\n\\nFeel free to make any adjustments you need!'), Document(metadata={'source': 'knowledge-base/sales/March.md'}, page_content='Certainly! Below is a sales table for the month of March featuring random products from your list:\\n\\n| Date       | Product                   | Quantity Sold | Price per Unit | Total Revenue |\\n|------------|---------------------------|---------------|----------------|---------------|\\n| March 2    | Paw Cleaner               | 12            | $24.99         | $299.88       |\\n| March 5    | Bathrobe                  | 4             | $34.99         | $139.96       |\\n| March 8    | Waterproof Rain Coat      | 3             | $45.99         | $137.97       |\\n| March 12   | Donut Bed                 | 1             | $59.99         | $59.99        |\\n| March 15   | Coverall                  | 5             | $49.99         | $249.95       |\\n| March 19   | Leash                     | 10            | $19.99         | $199.90       |\\n| March 22   | Cape                      | 6             | $39.99         | $239.94       |\\n| March 26   | Waterproof Rain Coat      | 2             | $45.99         | $91.98        |\\n| March 29   | Leash                     | 8             | $19.99         | $159.92       |\\n| **TOTAL**   |                           | **51**        |                | **$1,429.49** |\\n\\nFeel free to adjust any figures as needed!')]\n",
            "[Document(metadata={'source': 'knowledge-base/company/contact.md'}, page_content='**Contact Us - Cara Pets Clothing**\\n\\nWe’re here to help! At Cara Pets Clothing, your satisfaction is our top priority. Whether you have questions about our products, need assistance with an order, or just want to say hello, we’d love to hear from you!\\n\\n**Customer Service Hours:**\\nMonday to Friday: 9 AM - 5 PM (EST)  \\nSaturday & Sunday: Closed\\n\\n**Get in Touch:**\\n\\n**Email:**  \\nFor inquiries, please reach out to us at support@carapetsclothing.com. We aim to respond to all emails within 24 hours.\\n\\n**Phone:**  \\nPrefer to speak with someone directly? Give us a call at (555) 123-4567 during our customer service hours. We’re happy to assist you!\\n\\n**Address:**  \\nCara Pets Clothing  \\n123 Paws Lane  \\nCutesville, ST 12345  \\nUnited States\\n\\n**Social Media:**  \\nConnect with us and join our community of pet lovers! Follow us on social media for the latest updates, promotions, and adorable pet photos:  \\n- Instagram: [@carapetsclothing](https://www.instagram.com/carapetsclothing)  \\n- Facebook: [facebook.com/carapetsclothing](https://www.facebook.com/carapetsclothing)  \\n- Twitter: [@carapets](https://www.twitter.com/carapets)  \\n\\n**Feedback:**  \\nYour feedback is essential to us! If you have any suggestions or comments, please feel free to share your thoughts with us. We’re always looking for ways to improve and enhance your shopping experience.\\n\\nThank you for reaching out to Cara Pets Clothing. We look forward to hearing from you and helping you find the perfect outfit for your furry friend!'), Document(metadata={'source': 'knowledge-base/company/news.md'}, page_content=\"**News - Cara Pets Clothing**\\n\\nWelcome to the Cara Pets Clothing News page! Here, you’ll find the latest updates, exciting announcements, and heartwarming stories from our journey in crafting stylish apparel for your beloved pets. We’re thrilled to share our milestones, new product launches, community involvement, and more with you.\\n\\n### Latest Updates\\n\\n#### New Collection Launch: Fall Furry Fashion!\\n**Date: September 15, 2023**  \\nWe’re excited to announce our newest collection—Fall Furry Fashion! As the leaves change and the weather cools down, it's time for your pets to step out in style. Our latest line features cozy sweaters, chic jackets, and adorable accessories designed to keep your furry friends warm and fashionable. Explore our collection today and find the perfect outfit for every autumn adventure!\\n\\n#### Cara Pets Supports Local Shelters\\n**Date: August 20, 2023**  \\nAt Cara Pets, we believe in giving back. We’re proud to announce our partnership with local animal shelters. A portion of our profits from every purchase will go directly to helping animals in need find loving homes. Together, we can make a difference for pets in our community!\\n\\n#### Join Us at the Cutesville Pet Fair\\n**Date: July 10, 2023**  \\nMark your calendars! We’re thrilled to be a part of the upcoming Cutesville Pet Fair on August 5th, 2023. Join us for a day filled with fun activities, adorable pets, and exclusive Cara Pets discounts! Bring your furry friends to meet us, grab some stylish gear, and enjoy the festivities.\\n\\n### Spotlight on Our Customers\\n**Pet of the Month: Bella the Beagle**  \\nCongratulations to Bella, our September Pet of the Month! Bella is rocking our Cozy Nights Sweater in vibrant pink and spreading joy wherever she goes. We love seeing our furry friends enjoying their Cara Pets outfits. Share your pet’s fashion moment with us on social media using #CaraPetsStyle for a chance to be featured!\\n\\n### Tips & Tricks for Pet Fashion\\nCheck out our blog for helpful tips on dressing your pet for various occasions. From seasonal fashion advice to styling accessories, we offer expert insights to help your furry friend stay stylish and comfortable!\\n\\n### We Want to Hear from You!\\nWe love engaging with our community and welcome your feedback. If you have any news, stories, or events related to pets and fashion that you’d like to share, feel free to contact us. Your stories inspire us and help us grow!\\n\\nThank you for being a valued part of the Cara Pets family. Stay tuned for more exciting updates, product launches, and community initiatives. Together, let's keep the love for pets stylish and vibrant!\\n\\nFor regular updates, don’t forget to follow us on social media and subscribe to our newsletter!\"), Document(metadata={'source': 'knowledge-base/company/about.md'}, page_content=\"**About Us - Cara Pets Clothing**\\n\\nWelcome to Cara Pets Clothing, where your pet's style shines as brightly as their personality! Established by passionate pet lovers, Cara Pets is on a mission to blend fashion and comfort for our furry friends, crafting high-quality clothing that celebrates the bond between pets and their owners.\\n\\nAt Cara Pets, we believe that pets are more than just companions—they're family members. That's why we’re committed to offering a diverse range of apparel that caters to the unique tastes and needs of every pet. Whether your furry friend is a fashionista looking for a glamorous outfit or a playful pup in need of a cozy sweater, we have something special for every occasion.\\n\\nOur journey began from a simple love for pets and an understanding of their lifestyles. We meticulously select sustainable, soft materials that offer both durability and comfort, catering to pets of all shapes and sizes. Each piece in our carefully curated collection is designed to ensure a perfect fit, allowing your pets to move freely while looking their best.\\n\\nInclusivity is at the heart of our brand. We celebrate all breeds—from spirited small dogs to majestic large ones—ensuring that no pet is left behind in the world of fashion. Our goal is to empower every pet to express themselves confidently in our stylish outfits, whether they're out for a walk, attending a festive gathering, or simply lounging at home.\\n\\nCara Pets Clothing also places great emphasis on giving back to the community. A portion of every purchase goes directly to animal shelters and rescue organizations. We firmly believe in supporting the causes that matter to pet lovers everywhere, helping to provide a brighter future for animals in need.\\n\\nJoin our growing family of pet enthusiasts who believe that fashion should be fun, functional, and full of love. We invite you to explore our collection and find the perfect outfit that will make your pet stand out. Thank you for choosing Cara Pets Clothing—where every tail wag tells a stylish story! Together, let’s make the world a little cuter, one paw at a time.\")]\n",
            "[Document(metadata={'source': 'knowledge-base/products/Leash.md'}, page_content=\"### Introducing the Cara Pets Leash\\n\\n**Unleash Adventure with Style!**\\n\\nAt Cara Pets Clothing, we believe that every outing with your furry friend should be a stylish and enjoyable experience. That’s why we are thrilled to introduce our beautifully crafted **Cara Pets Leash**—the perfect blend of fashion, functionality, and durability for pet owners who want the best for their companions.\\n\\n#### **Product Highlights**\\n\\n- **Fashionable Design:** Our leash comes in a variety of trendy colors and patterns, allowing you to express your pet’s personality while ensuring that you both stand out during walks. Whether it's a vibrant floral print or a chic solid color, there's a design for every style.\\n\\n- **Comfortable Grip:** Designed with your comfort in mind, the leash features a soft, ergonomic handle that provides a secure grip. Say goodbye to leash burn and hello to easier walks with your beloved pet.\\n\\n- **Durable Materials:** Made from high-quality, eco-friendly materials, our leash is built to withstand the playful tug-of-war that comes with walks in the park. It’s designed to be both strong and lightweight, accommodating pets of all sizes.\\n\\n- **Versatile Lengths:** Choose from various lengths to suit your walking style—whether you prefer close control or a little more freedom for your furry adventurer, we have the perfect leash for you.\\n\\n- **Reflective Elements:** Safety is paramount! Our leash is equipped with reflective stitching to enhance visibility during evening strolls, keeping both you and your pet safe after sunset.\\n\\n#### **Why Choose the Cara Pets Leash?**\\n\\n1. **Fashion Meets Functionality:** Designed for pet lovers who appreciate the finer things in life, our leashes provide both style and practical features that every pet owner needs.\\n\\n2. **Community Support:** When you purchase a Cara Pets Leash, a portion of the proceeds goes to animal shelters and rescue organizations. Together, we can make a difference one leash at a time!\\n\\n3. **Pet Approved:** Don’t just take our word for it—our leashes are loved by pets and their people everywhere. Comfort and durability mean happy pets and satisfied owners.\\n\\n#### **Join the Cara Pets Family!**\\n\\nWe invite you to elevate your walks with our stylish and dependable **Cara Pets Leash**. Explore our collection today and find the perfect match for your pet’s personality. Together, let’s embrace every adventure with flair and fun!\\n\\nThank you for being a part of the Cara Pets community, where fashion, love, and care for animals come together to make every moment memorable. Let’s take those stylish steps together—one paw at a time!\"), Document(metadata={'source': 'knowledge-base/products/Donut Bed.md'}, page_content=\"### Introducing the Cara Pets Donut Bed\\n\\n**Where Comfort Meets Cuddle!**\\n\\nAt Cara Pets Clothing, we know how essential a cozy retreat is for your furry friend. That’s why we’re excited to introduce our luxurious **Cara Pets Donut Bed**—the ultimate lounging experience that offers unparalleled comfort and support for pets who love to curl up!\\n\\n#### **Product Highlights**\\n\\n- **Cozy Design:** The unique round shape of our Donut Bed provides a secure and snug environment for your pet, encouraging a sense of security and relaxation. With raised edges that act as a bolster, your pet can rest their head comfortably while feeling enveloped in softness.\\n\\n- **Premium Materials:** Crafted from super-soft, high-quality fabrics, the Cara Pets Donut Bed is filled with premium, plush cushioning that offers exceptional support for your pet’s joints and muscles. It’s like a warm hug after a long day of play!\\n\\n- **Stylish Aesthetic:** Available in a variety of trendy colors and patterns, the Donut Bed complements your home décor while keeping your pet stylish. Choose a design that reflects your pet’s personality and adds a touch of flair to any room.\\n\\n- **Easy Maintenance:** The removable and machine-washable cover ensures that keeping the Donut Bed clean is hassle-free. Simply toss it in the washing machine to keep it fresh and inviting for your furry companion.\\n\\n- **Versatile Use:** Ideal for pets of all sizes, our Donut Bed is perfect for small dogs, cats, and larger breeds who love to snuggle. Whether it's naptime, bedtime, or lounging around, this bed is versatile enough for every cozy moment.\\n\\n#### **Why Choose the Cara Pets Donut Bed?**\\n\\n1. **Unmatched Comfort:** Designed with your pet's well-being in mind, our Donut Bed provides a serene space for rest and relaxation, reducing anxiety and promoting better sleep.\\n\\n2. **Contribute to a Good Cause:** With every purchase of a Cara Pets Donut Bed, a portion of the proceeds is directed to support animal shelters and rescue organizations. You’re not just giving your pet a retreat, but also helping animals in need!\\n\\n3. **Loved by Pets and Owners Alike:** Our Donut Bed has garnered rave reviews from satisfied pet owners! Your furry friend will appreciate the plush comfort, and you’ll cherish the quality and aesthetic appeal it brings to your home.\\n\\n#### **Join the Cara Pets Family!**\\n\\nTreat your pet to the ultimate lounging experience with the **Cara Pets Donut Bed**. Explore our collection today and find the perfect bed that will provide your furry friend with a cozy haven they’ll never want to leave!\\n\\nThank you for being a valued member of the Cara Pets community, where our love for pets and commitment to quality inspire everything we do. Let’s create the comfiest spaces for our beloved companions—one snuggle at a time!\"), Document(metadata={'source': 'knowledge-base/products/Cape.md'}, page_content=\"### Introducing the Cara Pets Cape\\n\\n**Transform Every Outing into a Fashionable Adventure!**\\n\\nAt Cara Pets Clothing, we understand that pets deserve to shine in style, no matter the occasion! We are delighted to introduce our stunning **Cara Pets Cape**—a fabulous accessory that not only enhances your pet’s wardrobe but also adds a touch of charisma and charm to every outing.\\n\\n#### **Product Highlights**\\n\\n- **Sophisticated Styles:** Our Capes come in an array of eye-catching designs and colors, from playful patterns to elegant hues. Your furry friend will steal the spotlight whether they’re at a family gathering or a walk in the park!\\n\\n- **Luxurious Comfort:** Crafted with soft, high-quality materials, the Cara Pets Cape is designed to be lightweight and breathable, ensuring your pet stays comfortable while looking fabulous. It’s perfect for layering in chillier weather or as a chic statement piece any time of year!\\n\\n- **Easy to Wear and Adjust:** With a simple fastening system, dressing your pet in their Cape is a breeze. The adjustable design ensures a cozy fit while allowing for free movement, so your pet can strut their stuff without any restrictions.\\n\\n- **Versatile Occasion Wear:** Whether dressing up for a special event or adding flair to everyday outings, our Capes are versatile enough to complement any occasion. Your pet will always be ready to dazzle!\\n\\n- **Built-in Safety Features:** For those evening strolls, our Capes come equipped with reflective details, enhancing visibility and keeping your pet stylishly safe as they glide through the twilight.\\n\\n#### **Why Choose the Cara Pets Cape?**\\n\\n1. **Fashion Forward:** Designed for the trend-savvy pet owner, the Cara Pets Cape is the perfect blend of sophistication and fun, making every moment an opportunity for stylish expression.\\n\\n2. **Give Back:** Each purchase of a Cara Pets Cape contributes to animal shelters and rescue organizations, helping to support the very foundations that care for pets in need. Style with a purpose!\\n\\n3. **Loved by Pets and Owners:** Our Capes have received rave reviews from furry friends and their humans alike! With a focus on comfort and style, you can trust that your pet will love wearing their Cape.\\n\\n#### **Join the Cara Pets Family!**\\n\\nElevate your pet’s wardrobe with the chic and charming **Cara Pets Cape**. Browse our exclusive collection today and find the perfect Cape that captures your pet's personality while turning heads on every adventure.\\n\\nThank you for being a cherished member of the Cara Pets community—where passion for fashion and love for pets come together to create extraordinary experiences. Let’s set the stage for fabulous adventures—one paw at a time!\"), Document(metadata={'source': 'knowledge-base/products/Waterproof rain coat.md'}, page_content='### Introducing the Cara Pets Waterproof Rain Coat\\n\\n**Keep Your Furry Friend Stylish and Dry!**\\n\\nAt Cara Pets Clothing, we know that rainy days shouldn’t put a damper on your pet’s adventures! That’s why we are excited to introduce our **Cara Pets Waterproof Rain Coat**—a perfect fusion of practicality and fashion, designed to keep your furry companion comfortable and protected in any weather.\\n\\n#### **Product Highlights**\\n\\n- **Superior Waterproof Technology:** Our Rain Coat is made from high-quality waterproof materials that effectively shield your pet from rain, wind, and muck. Say goodbye to soggy fur and hello to dry, happy walks in the great outdoors!\\n\\n- **Trendy and Functional Design:** Available in a vibrant selection of colors and patterns, our Waterproof Rain Coat ensures your pet stands out, even on the gloomiest days. Achieve the perfect blend of fashion and function with a design that suits every pet’s personality.\\n\\n- **Comfortable Fit:** The coat features an adjustable design equipped with secure straps, ensuring a snug fit that won’t restrict your pet’s movement. It’s easy to put on and take off, making outings hassle-free for both you and your pet.\\n\\n- **Reflective Safety Features:** Safety is key, especially during rainy weather! Our Rain Coat comes with reflective elements that enhance visibility in low light conditions, keeping your furry friend safe during early morning or evening strolls.\\n\\n- **Easy Care:** Keeping your Rain Coat fresh and clean is a breeze—simply wipe it down or toss it in the washing machine. It’s designed for both durability and convenience, so your adventures can be worry-free.\\n\\n#### **Why Choose the Cara Pets Waterproof Rain Coat?**\\n\\n1. **Fashion Meets Practicality:** Designed with the modern pet owner in mind, our Rain Coat guarantees that your pet stays chic while being protected from the elements.\\n\\n2. **Support for Animal Welfare:** With every purchase of a Cara Pets Waterproof Rain Coat, you contribute to animal shelters and rescue programs, helping those in need find loving homes!\\n\\n3. **Approved by Pets and Owners:** Our Rain Coat has received rave reviews from happy pets and their humans! Comfort, style, and protection all in one package make this coat a must-have for every pet parent.\\n\\n#### **Join the Cara Pets Family!**\\n\\nDon’t let rainstorms stop your pet from enjoying their walks! Equip them with the **Cara Pets Waterproof Rain Coat** and embrace the weather with style. Explore our exclusive collection today to find the perfect fit for your adventurous companion.\\n\\nThank you for being a cherished member of the Cara Pets community, where love, fashion, and care for animals inspire everything we do. Let’s make every rainy day a stylish adventure—one paw at a time!'), Document(metadata={'source': 'knowledge-base/products/Paw Cleaner.md'}, page_content=\"### Introducing the Cara Pets Paw Cleaner\\n\\n**Keep Those Paws Happy and Clean!**\\n\\nAt Cara Pets Clothing, we understand that keeping your furry friend clean and comfortable is essential for their well-being. That's why we're excited to introduce our innovative **Cara Pets Paw Cleaner**—the perfect solution for pet owners who want to ensure their pets have clean paws after outdoor adventures!\\n\\n#### **Product Highlights**\\n\\n- **Quick and Effective Cleaning:** Our Paw Cleaner features a unique design with soft silicone bristles that effectively remove dirt, mud, and debris from your pet’s paws in just seconds. Simply insert the paw, give it a gentle twist, and watch as it cleans away all the pesky mess!\\n\\n- **Gentle on Paws:** Designed with your pet's comfort in mind, the soft bristles are gentle and non-irritating, making it suitable for pets of all sizes and breeds. Say goodbye to distressing clean-up routines—your pet will enjoy the experience!\\n\\n- **Portable and Convenient:** Lightweight and compact, the Cara Pets Paw Cleaner is ideal for use at home or on the go. It fits perfectly in your bag for trips to the park, beach, or anywhere your adventures take you!\\n\\n- **Easy to Clean:** After use, simply rinse out the Paw Cleaner with water. Its detachable design makes it easy to maintain, ensuring hassle-free cleaning for pet parents.\\n\\n- **Durable and Safe Materials:** Crafted from high-quality, pet-safe materials, our Paw Cleaner is built to last. It’s a trustworthy tool for all pet owners who want to keep their homes clean without compromising on safety.\\n\\n#### **Why Choose the Cara Pets Paw Cleaner?**\\n\\n1. **Transform Clean-Up Time:** Forget the mess of muddy paw prints! Our Paw Cleaner makes cleaning your pet’s paws a breeze, allowing for quick transitions from outdoor fun to indoor relaxation.\\n\\n2. **Support Our Cause:** With every purchase of a Cara Pets Paw Cleaner, a portion of the proceeds is donated to animal shelters and rescue organizations. By choosing our product, you are supporting a noble cause while caring for your pet!\\n\\n3. **Pet-Approved Solution:** Pet owners love our Paw Cleaner! Enjoy peace of mind knowing that your furry friend will appreciate the gentle cleaning and you'll appreciate a cleaner home.\\n\\n#### **Join the Cara Pets Family!**\\n\\nMake post-adventure clean-ups a delight with the **Cara Pets Paw Cleaner**. Discover our fantastic solution today and transform the way you care for your pet’s paws!\\n\\nThank you for being an integral part of the Cara Pets community—where passion for pets and commitment to style and comfort come together. Let’s keep those paws happy and clean—one paw at a time!\"), Document(metadata={'source': 'knowledge-base/products/Coverall.md'}, page_content=\"### Introducing the Cara Pets Coverall\\n\\n**Style That Fits Every Adventure!**\\n\\nAt Cara Pets Clothing, we believe that every pet should be able to enjoy their activities in style and comfort. We are excited to present our versatile **Cara Pets Coverall**—designed to keep your furry friend protected while making a fashion statement, no matter the occasion!\\n\\n#### **Product Highlights**\\n\\n- **Chic & Functional Design:** Our Coveralls come in a range of delightful styles and colors, perfect for any furball who loves to strut their stuff. From bold patterns to elegant solids, there’s a Coverall to match every pet's unique personality.\\n\\n- **All-Season Comfort:** Crafted with breathable, soft materials, the Cara Pets Coverall ensures your pet stays cozy and comfortable, whether it's a chilly day outdoors or a relaxed lounging session at home. It’s designed for every season and occasion!\\n\\n- **Easy to Wear:** Our Coveralls are designed with your pet’s ease in mind. The secure yet gentle fastening system allows for effortless dressing and undressing, ensuring a snug fit that won’t restrict their movement.\\n\\n- **Protective Coverage:** Perfect for outdoor adventures, the Coverall provides added protection from dirt, mud, or pesky allergens, keeping your pet clean and happy while exploring the world.\\n\\n- **Safety First:** With reflective accents for enhanced visibility during evening strolls, you can rest assured that your pet will remain safe and stylish during those twilight adventures.\\n\\n#### **Why Choose the Cara Pets Coverall?**\\n\\n1. **Versatility:** Whether it’s a trip to the park, a day at the beach, or simply lounging at home, our Coverall is suited for all occasions, allowing your pet to venture out in both comfort and style.\\n\\n2. **Supporting a Cause:** Each purchase of a Cara Pets Coverall contributes to animal shelters and rescue organizations. When you dress your pet in style, you’re also helping provide a brighter future for animals in need!\\n\\n3. **Paw-sitive Feedback:** Our Coveralls are loved by pets and their owners alike! With an emphasis on practicality and design, you can trust that your pet will enjoy wearing it, while you enjoy seeing them look fabulous.\\n\\n#### **Join the Cara Pets Family!**\\n\\nEmbrace style, comfort, and protection with the **Cara Pets Coverall**. Explore our exclusive collection today and discover the ideal outfit that will keep your furry friend looking their best, all year round. \\n\\nThank you for being a valued member of the Cara Pets community, where our passion for fashion and love for pets come together to create remarkable experiences. Let’s make every day a fashionable adventure—one paw at a time!\"), Document(metadata={'source': 'knowledge-base/products/bathrobe.md'}, page_content=\"### Introducing the Cara Pets Bathrobe\\n\\n**Wrap Your Pet in Cozy Comfort!**\\n\\nAt Cara Pets Clothing, we believe that every pet deserves to feel pampered and stylish, even during their downtime. We are thrilled to introduce our luxurious **Cara Pets Bathrobe**—the ultimate blend of comfort and chic, designed for pets who love to lounge in style after their baths or any cozy day at home.\\n\\n#### **Product Highlights**\\n\\n- **Luxurious Fabrics:** Crafted from ultra-soft, absorbent materials, our Bathrobe ensures your furry friend stays warm and dry after a wash or while snuggling up on the couch. This plush robe is designed to feel gentle against your pet's skin, providing the perfect treat for their post-bath relaxation.\\n\\n- **Stylish Design:** Our Bathrobe comes in a delightful range of colors and patterns, making it both fashionable and functional. From classic solids to playful prints, there’s a style that fits every pet’s personality, ensuring they drape in style!\\n\\n- **Easy to Wear:** Featuring a simple wrap design with secure fastenings, dressing your pet in their Bathrobe is a breeze. The adjustable fit ensures that your pet stays snug and comfortable, without hindering their playful spirit.\\n\\n- **Versatile Use:** Whether it’s right after a bath, a chilly evening, or a lazy afternoon, the Cara Pets Bathrobe is perfect for all occasions. It adds a touch of luxury to your pet’s day-to-day life, making relaxation fun!\\n\\n- **Machine Washable:** Convenience is key! Our Bathrobe is easy to care for and can be thrown into the washing machine, so you can keep it fresh and clean without any worries.\\n\\n#### **Why Choose the Cara Pets Bathrobe?**\\n\\n1. **Comfort Meets Style:** Our Bathrobe is not just about looks, but also about providing comfort. Designed with your pet’s wellbeing in mind, it transforms relaxing moments into something special.\\n\\n2. **Support Your Community:** Each purchase of a Cara Pets Bathrobe helps animal shelters and rescue organizations. When you choose our products, you are contributing to a noble cause—one fluffy robe at a time!\\n\\n3. **Pet-Approved:** Pets love snuggling up in their Bathrobe, and so do their owners! Reviews are filled with heartwarming feedback about the comfort and style our Bathrobe provides.\\n\\n#### **Join the Cara Pets Family!**\\n\\nIndulge your pet with the luxurious comfort of the **Cara Pets Bathrobe**. Explore our exclusive collection today and find the perfect fit that brings warmth and joy to your pet’s relaxation time.\\n\\nThank you for being a valued member of the Cara Pets community, where our love for fashion meets our passion for pets. Let’s elevate those comfy moments together—one cozy paw at a time!\")]\n"
          ]
        }
      ]
    },
    {
      "cell_type": "code",
      "source": [
        "for doc in documents:\n",
        "  print(doc.metadata['source'])"
      ],
      "metadata": {
        "colab": {
          "base_uri": "https://localhost:8080/"
        },
        "id": "29C2WWvM-StU",
        "outputId": "49cbb4f9-7d2c-4e9e-8dc5-e62f85896f2f"
      },
      "execution_count": 41,
      "outputs": [
        {
          "output_type": "stream",
          "name": "stdout",
          "text": [
            "knowledge-base/sales/December.md\n",
            "knowledge-base/sales/September.md\n",
            "knowledge-base/sales/January.md\n",
            "knowledge-base/sales/October.md\n",
            "knowledge-base/sales/August.md\n",
            "knowledge-base/sales/May.md\n",
            "knowledge-base/sales/November.md\n",
            "knowledge-base/sales/July.md\n",
            "knowledge-base/sales/February.md\n",
            "knowledge-base/sales/April.md\n",
            "knowledge-base/sales/June.md\n",
            "knowledge-base/sales/March.md\n",
            "knowledge-base/company/contact.md\n",
            "knowledge-base/company/news.md\n",
            "knowledge-base/company/about.md\n",
            "knowledge-base/products/Leash.md\n",
            "knowledge-base/products/Donut Bed.md\n",
            "knowledge-base/products/Cape.md\n",
            "knowledge-base/products/Waterproof rain coat.md\n",
            "knowledge-base/products/Paw Cleaner.md\n",
            "knowledge-base/products/Coverall.md\n",
            "knowledge-base/products/bathrobe.md\n"
          ]
        }
      ]
    },
    {
      "cell_type": "code",
      "source": [
        "text_splitter = CharacterTextSplitter(chunk_size=1000, chunk_overlap=20)\n",
        "texts = text_splitter.split_documents(documents)"
      ],
      "metadata": {
        "colab": {
          "base_uri": "https://localhost:8080/"
        },
        "id": "YG94dx24-WT9",
        "outputId": "87721cf9-a40e-44a4-ccd6-2e5fe73e9749"
      },
      "execution_count": 42,
      "outputs": [
        {
          "output_type": "stream",
          "name": "stderr",
          "text": [
            "WARNING:langchain_text_splitters.base:Created a chunk of size 1023, which is longer than the specified 1000\n",
            "WARNING:langchain_text_splitters.base:Created a chunk of size 1012, which is longer than the specified 1000\n",
            "WARNING:langchain_text_splitters.base:Created a chunk of size 1104, which is longer than the specified 1000\n",
            "WARNING:langchain_text_splitters.base:Created a chunk of size 1023, which is longer than the specified 1000\n",
            "WARNING:langchain_text_splitters.base:Created a chunk of size 1012, which is longer than the specified 1000\n",
            "WARNING:langchain_text_splitters.base:Created a chunk of size 1012, which is longer than the specified 1000\n",
            "WARNING:langchain_text_splitters.base:Created a chunk of size 1023, which is longer than the specified 1000\n",
            "WARNING:langchain_text_splitters.base:Created a chunk of size 1012, which is longer than the specified 1000\n",
            "WARNING:langchain_text_splitters.base:Created a chunk of size 1104, which is longer than the specified 1000\n",
            "WARNING:langchain_text_splitters.base:Created a chunk of size 1012, which is longer than the specified 1000\n",
            "WARNING:langchain_text_splitters.base:Created a chunk of size 1012, which is longer than the specified 1000\n",
            "WARNING:langchain_text_splitters.base:Created a chunk of size 1104, which is longer than the specified 1000\n"
          ]
        }
      ]
    },
    {
      "cell_type": "code",
      "source": [
        "len(texts)"
      ],
      "metadata": {
        "colab": {
          "base_uri": "https://localhost:8080/"
        },
        "id": "X_Lrvi7j-6hF",
        "outputId": "2947bdcf-4812-469a-c24b-cc89147f73c7"
      },
      "execution_count": 43,
      "outputs": [
        {
          "output_type": "execute_result",
          "data": {
            "text/plain": [
              "66"
            ]
          },
          "metadata": {},
          "execution_count": 43
        }
      ]
    },
    {
      "cell_type": "code",
      "source": [
        "doc_types = set(chunk.metadata['doc_type'] for chunk in texts)\n",
        "print(f'Document types found: {\", \".join(doc_types)}')"
      ],
      "metadata": {
        "colab": {
          "base_uri": "https://localhost:8080/"
        },
        "id": "SvrUXl1w_C_s",
        "outputId": "2df36006-99c2-497b-f776-ff2895b56ae4"
      },
      "execution_count": 44,
      "outputs": [
        {
          "output_type": "stream",
          "name": "stdout",
          "text": [
            "Document types found: company, sales, products\n"
          ]
        }
      ]
    },
    {
      "cell_type": "code",
      "source": [
        "embeddings = OpenAIEmbeddings()"
      ],
      "metadata": {
        "id": "6RP7NkAMCj8G"
      },
      "execution_count": 45,
      "outputs": []
    },
    {
      "cell_type": "code",
      "source": [
        "db_name = 'vector_db'\n",
        "if os.path.exists(db_name):\n",
        "  Chroma(persist_directory=db_name, embedding_function=embeddings).delete_collection()\n",
        "\n",
        "vectorstore = Chroma.from_documents(documents=texts, embedding=embeddings, persist_directory=db_name)\n",
        "print(f'Vectorstore created with {vectorstore._collection.count()} documents')"
      ],
      "metadata": {
        "colab": {
          "base_uri": "https://localhost:8080/"
        },
        "id": "Gk62Mt5lC4q2",
        "outputId": "4b204c62-8eda-4ed5-a282-2811b0e743b8"
      },
      "execution_count": 46,
      "outputs": [
        {
          "output_type": "stream",
          "name": "stdout",
          "text": [
            "Vectorstore created with 66 documents\n"
          ]
        }
      ]
    },
    {
      "cell_type": "code",
      "source": [
        "collection = vectorstore._collection\n",
        "sample_embedding = collection.get(limit=1, include=['embeddings'])['embeddings'][0]\n",
        "dimensions = len(sample_embedding)\n",
        "print(f'The vectors have {dimensions:,} dimensions')"
      ],
      "metadata": {
        "colab": {
          "base_uri": "https://localhost:8080/"
        },
        "id": "sAUOMPGbDL--",
        "outputId": "994c9ef3-28c8-4a09-be2e-4bb246458a73"
      },
      "execution_count": 47,
      "outputs": [
        {
          "output_type": "stream",
          "name": "stdout",
          "text": [
            "The vectors have 1,536 dimensions\n"
          ]
        }
      ]
    },
    {
      "cell_type": "code",
      "source": [
        "result = collection.get(include=['embeddings', 'documents', 'metadatas'])\n",
        "vectors = np.array(result['embeddings'])\n",
        "documents = result['documents']\n",
        "doc_types = [metadata['doc_type'] for metadata in result['metadatas']]\n",
        "colors = [['blue', 'green', 'red'][['company', 'products','sales'].index(t)] for t in doc_types]"
      ],
      "metadata": {
        "id": "-D_eexu8DWjw"
      },
      "execution_count": 48,
      "outputs": []
    },
    {
      "cell_type": "code",
      "source": [
        "tsne = TSNE(n_components=2, random_state=42)\n",
        "reduced_vectors = tsne.fit_transform(vectors)\n",
        "\n",
        "# Create the 2D scatter plot\n",
        "fig = go.Figure(data=[go.Scatter(\n",
        "    x=reduced_vectors[:,0],\n",
        "    y=reduced_vectors[:,1],\n",
        "    mode='markers',\n",
        "    marker=dict(size=5, color=colors, opacity=0.8),\n",
        "    text=[f'Type: {t}<br>Text: {d[:100]}...' for t, d in zip(doc_types,documents)],\n",
        "    hoverinfo='text'\n",
        ")])\n",
        "fig.update_layout(\n",
        "    title='2D Chroma Vector Store Visualization',\n",
        "    scene=dict(xaxis_title='x',yaxis_title='y'),\n",
        "    width=800,\n",
        "    height=600,\n",
        "    margin=dict(r=20, b=10, l=10, t=40)\n",
        ")\n",
        "\n",
        "fig.show()"
      ],
      "metadata": {
        "colab": {
          "base_uri": "https://localhost:8080/",
          "height": 617
        },
        "id": "HNssNKQ6DnXw",
        "outputId": "f2fd4473-9a09-4c91-cf48-d9a492374539"
      },
      "execution_count": 49,
      "outputs": [
        {
          "output_type": "display_data",
          "data": {
            "text/html": [
              "<html>\n",
              "<head><meta charset=\"utf-8\" /></head>\n",
              "<body>\n",
              "    <div>            <script src=\"https://cdnjs.cloudflare.com/ajax/libs/mathjax/2.7.5/MathJax.js?config=TeX-AMS-MML_SVG\"></script><script type=\"text/javascript\">if (window.MathJax && window.MathJax.Hub && window.MathJax.Hub.Config) {window.MathJax.Hub.Config({SVG: {font: \"STIX-Web\"}});}</script>                <script type=\"text/javascript\">window.PlotlyConfig = {MathJaxConfig: 'local'};</script>\n",
              "        <script charset=\"utf-8\" src=\"https://cdn.plot.ly/plotly-2.35.2.min.js\"></script>                <div id=\"3ffedf66-0b5b-4ebf-947e-070804217c6e\" class=\"plotly-graph-div\" style=\"height:600px; width:800px;\"></div>            <script type=\"text/javascript\">                                    window.PLOTLYENV=window.PLOTLYENV || {};                                    if (document.getElementById(\"3ffedf66-0b5b-4ebf-947e-070804217c6e\")) {                    Plotly.newPlot(                        \"3ffedf66-0b5b-4ebf-947e-070804217c6e\",                        [{\"hoverinfo\":\"text\",\"marker\":{\"color\":[\"red\",\"red\",\"red\",\"red\",\"red\",\"red\",\"red\",\"red\",\"red\",\"red\",\"red\",\"red\",\"red\",\"red\",\"red\",\"red\",\"red\",\"red\",\"red\",\"red\",\"red\",\"red\",\"red\",\"red\",\"red\",\"red\",\"red\",\"red\",\"red\",\"red\",\"red\",\"red\",\"red\",\"red\",\"red\",\"red\",\"blue\",\"blue\",\"blue\",\"blue\",\"blue\",\"blue\",\"blue\",\"blue\",\"blue\",\"green\",\"green\",\"green\",\"green\",\"green\",\"green\",\"green\",\"green\",\"green\",\"green\",\"green\",\"green\",\"green\",\"green\",\"green\",\"green\",\"green\",\"green\",\"green\",\"green\",\"green\"],\"opacity\":0.8,\"size\":5},\"mode\":\"markers\",\"text\":[\"Type: sales\\u003cbr\\u003eText: Certainly! Below is a sales table for the month of December featuring random products from your list...\",\"Type: sales\\u003cbr\\u003eText: | Date        | Product                   | Quantity Sold | Price per Unit | Total Revenue |\\n|------...\",\"Type: sales\\u003cbr\\u003eText: Feel free to adjust any numbers or details as necessary!...\",\"Type: sales\\u003cbr\\u003eText: Certainly! Below is a sales table for the month of September featuring random products from your lis...\",\"Type: sales\\u003cbr\\u003eText: | Date       | Product                   | Quantity Sold | Price per Unit | Total Revenue |\\n|-------...\",\"Type: sales\\u003cbr\\u003eText: Feel free to adjust any of the figures as needed!...\",\"Type: sales\\u003cbr\\u003eText: Sure! Below is a sales table for the month of January featuring random products from your list:...\",\"Type: sales\\u003cbr\\u003eText: | Date       | Product                   | Quantity Sold | Price per Unit | Total Revenue |\\n|-------...\",\"Type: sales\\u003cbr\\u003eText: Feel free to adjust the quantities and prices as needed!...\",\"Type: sales\\u003cbr\\u003eText: Certainly! Below is a sales table for the month of October featuring random products from your list:...\",\"Type: sales\\u003cbr\\u003eText: | Date        | Product                   | Quantity Sold | Price per Unit | Total Revenue |\\n|------...\",\"Type: sales\\u003cbr\\u003eText: Feel free to adjust any figures or details as needed!...\",\"Type: sales\\u003cbr\\u003eText: Certainly! Below is a sales table for the month of August featuring random products from your list:...\",\"Type: sales\\u003cbr\\u003eText: | Date       | Product                   | Quantity Sold | Price per Unit | Total Revenue |\\n|-------...\",\"Type: sales\\u003cbr\\u003eText: Feel free to modify any figures or details as needed!...\",\"Type: sales\\u003cbr\\u003eText: Sure! Below is a sales table for the month of May featuring random products from your list:...\",\"Type: sales\\u003cbr\\u003eText: | Date       | Product                   | Quantity Sold | Price per Unit | Total Revenue |\\n|-------...\",\"Type: sales\\u003cbr\\u003eText: Feel free to adjust the figures as you see fit!...\",\"Type: sales\\u003cbr\\u003eText: Certainly! Below is a sales table for the month of November featuring random products from your list...\",\"Type: sales\\u003cbr\\u003eText: | Date        | Product                   | Quantity Sold | Price per Unit | Total Revenue |\\n|------...\",\"Type: sales\\u003cbr\\u003eText: Feel free to modify any figures as needed!...\",\"Type: sales\\u003cbr\\u003eText: Certainly! Below is a sales table for the month of July featuring random products from your list:...\",\"Type: sales\\u003cbr\\u003eText: | Date       | Product                   | Quantity Sold | Price per Unit | Total Revenue |\\n|-------...\",\"Type: sales\\u003cbr\\u003eText: Feel free to adjust any numbers as you see fit!...\",\"Type: sales\\u003cbr\\u003eText: Certainly! Below is a sales table for the month of February featuring random products from your list...\",\"Type: sales\\u003cbr\\u003eText: | Date       | Product                   | Quantity Sold | Price per Unit | Total Revenue |\\n|-------...\",\"Type: sales\\u003cbr\\u003eText: Feel free to modify any of the figures as needed!...\",\"Type: sales\\u003cbr\\u003eText: Certainly! Below is a sales table for the month of April featuring random products from your list:...\",\"Type: sales\\u003cbr\\u003eText: | Date       | Product                   | Quantity Sold | Price per Unit | Total Revenue |\\n|-------...\",\"Type: sales\\u003cbr\\u003eText: Feel free to modify any figures or details as needed!...\",\"Type: sales\\u003cbr\\u003eText: Certainly! Below is a sales table for the month of June featuring random products from your list:...\",\"Type: sales\\u003cbr\\u003eText: | Date       | Product                   | Quantity Sold | Price per Unit | Total Revenue |\\n|-------...\",\"Type: sales\\u003cbr\\u003eText: Feel free to make any adjustments you need!...\",\"Type: sales\\u003cbr\\u003eText: Certainly! Below is a sales table for the month of March featuring random products from your list:...\",\"Type: sales\\u003cbr\\u003eText: | Date       | Product                   | Quantity Sold | Price per Unit | Total Revenue |\\n|-------...\",\"Type: sales\\u003cbr\\u003eText: Feel free to adjust any figures as needed!...\",\"Type: company\\u003cbr\\u003eText: **Contact Us - Cara Pets Clothing**\\n\\nWe’re here to help! At Cara Pets Clothing, your satisfaction is...\",\"Type: company\\u003cbr\\u003eText: **Social Media:**  \\nConnect with us and join our community of pet lovers! Follow us on social media ...\",\"Type: company\\u003cbr\\u003eText: **News - Cara Pets Clothing**\\n\\nWelcome to the Cara Pets Clothing News page! Here, you’ll find the la...\",\"Type: company\\u003cbr\\u003eText: #### Cara Pets Supports Local Shelters\\n**Date: August 20, 2023**  \\nAt Cara Pets, we believe in givin...\",\"Type: company\\u003cbr\\u003eText: ### Spotlight on Our Customers\\n**Pet of the Month: Bella the Beagle**  \\nCongratulations to Bella, ou...\",\"Type: company\\u003cbr\\u003eText: Thank you for being a valued part of the Cara Pets family. Stay tuned for more exciting updates, pro...\",\"Type: company\\u003cbr\\u003eText: **About Us - Cara Pets Clothing**\\n\\nWelcome to Cara Pets Clothing, where your pet's style shines as b...\",\"Type: company\\u003cbr\\u003eText: Our journey began from a simple love for pets and an understanding of their lifestyles. We meticulou...\",\"Type: company\\u003cbr\\u003eText: Cara Pets Clothing also places great emphasis on giving back to the community. A portion of every pu...\",\"Type: products\\u003cbr\\u003eText: ### Introducing the Cara Pets Leash\\n\\n**Unleash Adventure with Style!**\\n\\nAt Cara Pets Clothing, we be...\",\"Type: products\\u003cbr\\u003eText: - **Durable Materials:** Made from high-quality, eco-friendly materials, our leash is built to withs...\",\"Type: products\\u003cbr\\u003eText: 2. **Community Support:** When you purchase a Cara Pets Leash, a portion of the proceeds goes to ani...\",\"Type: products\\u003cbr\\u003eText: ### Introducing the Cara Pets Donut Bed\\n\\n**Where Comfort Meets Cuddle!**\\n\\nAt Cara Pets Clothing, we ...\",\"Type: products\\u003cbr\\u003eText: - **Stylish Aesthetic:** Available in a variety of trendy colors and patterns, the Donut Bed complem...\",\"Type: products\\u003cbr\\u003eText: 2. **Contribute to a Good Cause:** With every purchase of a Cara Pets Donut Bed, a portion of the pr...\",\"Type: products\\u003cbr\\u003eText: ### Introducing the Cara Pets Cape\\n\\n**Transform Every Outing into a Fashionable Adventure!**\\n\\nAt Car...\",\"Type: products\\u003cbr\\u003eText: - **Easy to Wear and Adjust:** With a simple fastening system, dressing your pet in their Cape is a ...\",\"Type: products\\u003cbr\\u003eText: 2. **Give Back:** Each purchase of a Cara Pets Cape contributes to animal shelters and rescue organi...\",\"Type: products\\u003cbr\\u003eText: ### Introducing the Cara Pets Waterproof Rain Coat\\n\\n**Keep Your Furry Friend Stylish and Dry!**\\n\\nAt ...\",\"Type: products\\u003cbr\\u003eText: - **Comfortable Fit:** The coat features an adjustable design equipped with secure straps, ensuring ...\",\"Type: products\\u003cbr\\u003eText: 2. **Support for Animal Welfare:** With every purchase of a Cara Pets Waterproof Rain Coat, you cont...\",\"Type: products\\u003cbr\\u003eText: ### Introducing the Cara Pets Paw Cleaner\\n\\n**Keep Those Paws Happy and Clean!**\\n\\nAt Cara Pets Clothi...\",\"Type: products\\u003cbr\\u003eText: - **Portable and Convenient:** Lightweight and compact, the Cara Pets Paw Cleaner is ideal for use a...\",\"Type: products\\u003cbr\\u003eText: 2. **Support Our Cause:** With every purchase of a Cara Pets Paw Cleaner, a portion of the proceeds ...\",\"Type: products\\u003cbr\\u003eText: ### Introducing the Cara Pets Coverall\\n\\n**Style That Fits Every Adventure!**\\n\\nAt Cara Pets Clothing,...\",\"Type: products\\u003cbr\\u003eText: - **Easy to Wear:** Our Coveralls are designed with your pet’s ease in mind. The secure yet gentle f...\",\"Type: products\\u003cbr\\u003eText: 2. **Supporting a Cause:** Each purchase of a Cara Pets Coverall contributes to animal shelters and ...\",\"Type: products\\u003cbr\\u003eText: ### Introducing the Cara Pets Bathrobe\\n\\n**Wrap Your Pet in Cozy Comfort!**\\n\\nAt Cara Pets Clothing, w...\",\"Type: products\\u003cbr\\u003eText: - **Easy to Wear:** Featuring a simple wrap design with secure fastenings, dressing your pet in thei...\",\"Type: products\\u003cbr\\u003eText: 2. **Support Your Community:** Each purchase of a Cara Pets Bathrobe helps animal shelters and rescu...\"],\"x\":[0.70127416,3.2602503,-0.85673064,1.1532036,3.105304,-0.91495913,0.6113572,3.1692781,-0.3208538,1.0586902,2.9950242,-0.95716095,1.2127364,2.6853395,-1.2671404,0.8839629,2.8164399,-0.8482737,0.87084424,3.2187774,-1.2392943,1.1787249,3.0264547,-0.75066906,0.6783826,2.9568326,-1.3071908,0.86772394,2.9089775,-1.2675464,1.1095085,2.990223,-0.9450132,0.73954356,2.7680838,-0.8664061,2.8508666,2.5340674,2.2296968,2.3467953,2.5299528,2.3126903,2.0065596,2.167801,1.9338787,0.8392719,0.59102255,0.97401494,1.2843665,1.2181529,1.3108919,1.1913875,0.9444995,1.4342668,0.41432852,0.32855934,0.50125694,-0.30722994,-0.3220251,-0.19764532,1.3113,0.8646263,1.5198298,1.2417397,1.083309,1.4702749],\"y\":[-6.830546,-8.929677,-9.376035,-6.96331,-9.079724,-9.100035,-7.043399,-8.935437,-9.105847,-6.8406005,-8.696961,-9.191584,-7.0638804,-9.055335,-9.009559,-7.3466725,-8.799887,-9.111612,-6.831006,-8.727749,-8.957741,-7.158071,-9.082594,-9.359833,-7.1004276,-9.113757,-8.941488,-7.2743564,-8.719716,-9.009074,-7.272123,-8.710317,-9.674215,-7.192797,-9.141338,-9.12545,-13.563821,-13.652677,-13.639755,-12.890709,-13.952189,-13.227923,-13.767695,-14.352084,-13.607728,-13.309803,-13.3078575,-13.234014,-12.229182,-12.160667,-12.292722,-13.919893,-14.096747,-13.710505,-14.288149,-14.392984,-14.218843,-13.159132,-13.175286,-13.147561,-14.012784,-14.20584,-13.834212,-14.739694,-14.787909,-14.641935],\"type\":\"scatter\"}],                        {\"template\":{\"data\":{\"histogram2dcontour\":[{\"type\":\"histogram2dcontour\",\"colorbar\":{\"outlinewidth\":0,\"ticks\":\"\"},\"colorscale\":[[0.0,\"#0d0887\"],[0.1111111111111111,\"#46039f\"],[0.2222222222222222,\"#7201a8\"],[0.3333333333333333,\"#9c179e\"],[0.4444444444444444,\"#bd3786\"],[0.5555555555555556,\"#d8576b\"],[0.6666666666666666,\"#ed7953\"],[0.7777777777777778,\"#fb9f3a\"],[0.8888888888888888,\"#fdca26\"],[1.0,\"#f0f921\"]]}],\"choropleth\":[{\"type\":\"choropleth\",\"colorbar\":{\"outlinewidth\":0,\"ticks\":\"\"}}],\"histogram2d\":[{\"type\":\"histogram2d\",\"colorbar\":{\"outlinewidth\":0,\"ticks\":\"\"},\"colorscale\":[[0.0,\"#0d0887\"],[0.1111111111111111,\"#46039f\"],[0.2222222222222222,\"#7201a8\"],[0.3333333333333333,\"#9c179e\"],[0.4444444444444444,\"#bd3786\"],[0.5555555555555556,\"#d8576b\"],[0.6666666666666666,\"#ed7953\"],[0.7777777777777778,\"#fb9f3a\"],[0.8888888888888888,\"#fdca26\"],[1.0,\"#f0f921\"]]}],\"heatmap\":[{\"type\":\"heatmap\",\"colorbar\":{\"outlinewidth\":0,\"ticks\":\"\"},\"colorscale\":[[0.0,\"#0d0887\"],[0.1111111111111111,\"#46039f\"],[0.2222222222222222,\"#7201a8\"],[0.3333333333333333,\"#9c179e\"],[0.4444444444444444,\"#bd3786\"],[0.5555555555555556,\"#d8576b\"],[0.6666666666666666,\"#ed7953\"],[0.7777777777777778,\"#fb9f3a\"],[0.8888888888888888,\"#fdca26\"],[1.0,\"#f0f921\"]]}],\"heatmapgl\":[{\"type\":\"heatmapgl\",\"colorbar\":{\"outlinewidth\":0,\"ticks\":\"\"},\"colorscale\":[[0.0,\"#0d0887\"],[0.1111111111111111,\"#46039f\"],[0.2222222222222222,\"#7201a8\"],[0.3333333333333333,\"#9c179e\"],[0.4444444444444444,\"#bd3786\"],[0.5555555555555556,\"#d8576b\"],[0.6666666666666666,\"#ed7953\"],[0.7777777777777778,\"#fb9f3a\"],[0.8888888888888888,\"#fdca26\"],[1.0,\"#f0f921\"]]}],\"contourcarpet\":[{\"type\":\"contourcarpet\",\"colorbar\":{\"outlinewidth\":0,\"ticks\":\"\"}}],\"contour\":[{\"type\":\"contour\",\"colorbar\":{\"outlinewidth\":0,\"ticks\":\"\"},\"colorscale\":[[0.0,\"#0d0887\"],[0.1111111111111111,\"#46039f\"],[0.2222222222222222,\"#7201a8\"],[0.3333333333333333,\"#9c179e\"],[0.4444444444444444,\"#bd3786\"],[0.5555555555555556,\"#d8576b\"],[0.6666666666666666,\"#ed7953\"],[0.7777777777777778,\"#fb9f3a\"],[0.8888888888888888,\"#fdca26\"],[1.0,\"#f0f921\"]]}],\"surface\":[{\"type\":\"surface\",\"colorbar\":{\"outlinewidth\":0,\"ticks\":\"\"},\"colorscale\":[[0.0,\"#0d0887\"],[0.1111111111111111,\"#46039f\"],[0.2222222222222222,\"#7201a8\"],[0.3333333333333333,\"#9c179e\"],[0.4444444444444444,\"#bd3786\"],[0.5555555555555556,\"#d8576b\"],[0.6666666666666666,\"#ed7953\"],[0.7777777777777778,\"#fb9f3a\"],[0.8888888888888888,\"#fdca26\"],[1.0,\"#f0f921\"]]}],\"mesh3d\":[{\"type\":\"mesh3d\",\"colorbar\":{\"outlinewidth\":0,\"ticks\":\"\"}}],\"scatter\":[{\"fillpattern\":{\"fillmode\":\"overlay\",\"size\":10,\"solidity\":0.2},\"type\":\"scatter\"}],\"parcoords\":[{\"type\":\"parcoords\",\"line\":{\"colorbar\":{\"outlinewidth\":0,\"ticks\":\"\"}}}],\"scatterpolargl\":[{\"type\":\"scatterpolargl\",\"marker\":{\"colorbar\":{\"outlinewidth\":0,\"ticks\":\"\"}}}],\"bar\":[{\"error_x\":{\"color\":\"#2a3f5f\"},\"error_y\":{\"color\":\"#2a3f5f\"},\"marker\":{\"line\":{\"color\":\"#E5ECF6\",\"width\":0.5},\"pattern\":{\"fillmode\":\"overlay\",\"size\":10,\"solidity\":0.2}},\"type\":\"bar\"}],\"scattergeo\":[{\"type\":\"scattergeo\",\"marker\":{\"colorbar\":{\"outlinewidth\":0,\"ticks\":\"\"}}}],\"scatterpolar\":[{\"type\":\"scatterpolar\",\"marker\":{\"colorbar\":{\"outlinewidth\":0,\"ticks\":\"\"}}}],\"histogram\":[{\"marker\":{\"pattern\":{\"fillmode\":\"overlay\",\"size\":10,\"solidity\":0.2}},\"type\":\"histogram\"}],\"scattergl\":[{\"type\":\"scattergl\",\"marker\":{\"colorbar\":{\"outlinewidth\":0,\"ticks\":\"\"}}}],\"scatter3d\":[{\"type\":\"scatter3d\",\"line\":{\"colorbar\":{\"outlinewidth\":0,\"ticks\":\"\"}},\"marker\":{\"colorbar\":{\"outlinewidth\":0,\"ticks\":\"\"}}}],\"scattermapbox\":[{\"type\":\"scattermapbox\",\"marker\":{\"colorbar\":{\"outlinewidth\":0,\"ticks\":\"\"}}}],\"scatterternary\":[{\"type\":\"scatterternary\",\"marker\":{\"colorbar\":{\"outlinewidth\":0,\"ticks\":\"\"}}}],\"scattercarpet\":[{\"type\":\"scattercarpet\",\"marker\":{\"colorbar\":{\"outlinewidth\":0,\"ticks\":\"\"}}}],\"carpet\":[{\"aaxis\":{\"endlinecolor\":\"#2a3f5f\",\"gridcolor\":\"white\",\"linecolor\":\"white\",\"minorgridcolor\":\"white\",\"startlinecolor\":\"#2a3f5f\"},\"baxis\":{\"endlinecolor\":\"#2a3f5f\",\"gridcolor\":\"white\",\"linecolor\":\"white\",\"minorgridcolor\":\"white\",\"startlinecolor\":\"#2a3f5f\"},\"type\":\"carpet\"}],\"table\":[{\"cells\":{\"fill\":{\"color\":\"#EBF0F8\"},\"line\":{\"color\":\"white\"}},\"header\":{\"fill\":{\"color\":\"#C8D4E3\"},\"line\":{\"color\":\"white\"}},\"type\":\"table\"}],\"barpolar\":[{\"marker\":{\"line\":{\"color\":\"#E5ECF6\",\"width\":0.5},\"pattern\":{\"fillmode\":\"overlay\",\"size\":10,\"solidity\":0.2}},\"type\":\"barpolar\"}],\"pie\":[{\"automargin\":true,\"type\":\"pie\"}]},\"layout\":{\"autotypenumbers\":\"strict\",\"colorway\":[\"#636efa\",\"#EF553B\",\"#00cc96\",\"#ab63fa\",\"#FFA15A\",\"#19d3f3\",\"#FF6692\",\"#B6E880\",\"#FF97FF\",\"#FECB52\"],\"font\":{\"color\":\"#2a3f5f\"},\"hovermode\":\"closest\",\"hoverlabel\":{\"align\":\"left\"},\"paper_bgcolor\":\"white\",\"plot_bgcolor\":\"#E5ECF6\",\"polar\":{\"bgcolor\":\"#E5ECF6\",\"angularaxis\":{\"gridcolor\":\"white\",\"linecolor\":\"white\",\"ticks\":\"\"},\"radialaxis\":{\"gridcolor\":\"white\",\"linecolor\":\"white\",\"ticks\":\"\"}},\"ternary\":{\"bgcolor\":\"#E5ECF6\",\"aaxis\":{\"gridcolor\":\"white\",\"linecolor\":\"white\",\"ticks\":\"\"},\"baxis\":{\"gridcolor\":\"white\",\"linecolor\":\"white\",\"ticks\":\"\"},\"caxis\":{\"gridcolor\":\"white\",\"linecolor\":\"white\",\"ticks\":\"\"}},\"coloraxis\":{\"colorbar\":{\"outlinewidth\":0,\"ticks\":\"\"}},\"colorscale\":{\"sequential\":[[0.0,\"#0d0887\"],[0.1111111111111111,\"#46039f\"],[0.2222222222222222,\"#7201a8\"],[0.3333333333333333,\"#9c179e\"],[0.4444444444444444,\"#bd3786\"],[0.5555555555555556,\"#d8576b\"],[0.6666666666666666,\"#ed7953\"],[0.7777777777777778,\"#fb9f3a\"],[0.8888888888888888,\"#fdca26\"],[1.0,\"#f0f921\"]],\"sequentialminus\":[[0.0,\"#0d0887\"],[0.1111111111111111,\"#46039f\"],[0.2222222222222222,\"#7201a8\"],[0.3333333333333333,\"#9c179e\"],[0.4444444444444444,\"#bd3786\"],[0.5555555555555556,\"#d8576b\"],[0.6666666666666666,\"#ed7953\"],[0.7777777777777778,\"#fb9f3a\"],[0.8888888888888888,\"#fdca26\"],[1.0,\"#f0f921\"]],\"diverging\":[[0,\"#8e0152\"],[0.1,\"#c51b7d\"],[0.2,\"#de77ae\"],[0.3,\"#f1b6da\"],[0.4,\"#fde0ef\"],[0.5,\"#f7f7f7\"],[0.6,\"#e6f5d0\"],[0.7,\"#b8e186\"],[0.8,\"#7fbc41\"],[0.9,\"#4d9221\"],[1,\"#276419\"]]},\"xaxis\":{\"gridcolor\":\"white\",\"linecolor\":\"white\",\"ticks\":\"\",\"title\":{\"standoff\":15},\"zerolinecolor\":\"white\",\"automargin\":true,\"zerolinewidth\":2},\"yaxis\":{\"gridcolor\":\"white\",\"linecolor\":\"white\",\"ticks\":\"\",\"title\":{\"standoff\":15},\"zerolinecolor\":\"white\",\"automargin\":true,\"zerolinewidth\":2},\"scene\":{\"xaxis\":{\"backgroundcolor\":\"#E5ECF6\",\"gridcolor\":\"white\",\"linecolor\":\"white\",\"showbackground\":true,\"ticks\":\"\",\"zerolinecolor\":\"white\",\"gridwidth\":2},\"yaxis\":{\"backgroundcolor\":\"#E5ECF6\",\"gridcolor\":\"white\",\"linecolor\":\"white\",\"showbackground\":true,\"ticks\":\"\",\"zerolinecolor\":\"white\",\"gridwidth\":2},\"zaxis\":{\"backgroundcolor\":\"#E5ECF6\",\"gridcolor\":\"white\",\"linecolor\":\"white\",\"showbackground\":true,\"ticks\":\"\",\"zerolinecolor\":\"white\",\"gridwidth\":2}},\"shapedefaults\":{\"line\":{\"color\":\"#2a3f5f\"}},\"annotationdefaults\":{\"arrowcolor\":\"#2a3f5f\",\"arrowhead\":0,\"arrowwidth\":1},\"geo\":{\"bgcolor\":\"white\",\"landcolor\":\"#E5ECF6\",\"subunitcolor\":\"white\",\"showland\":true,\"showlakes\":true,\"lakecolor\":\"white\"},\"title\":{\"x\":0.05},\"mapbox\":{\"style\":\"light\"}}},\"margin\":{\"r\":20,\"b\":10,\"l\":10,\"t\":40},\"title\":{\"text\":\"2D Chroma Vector Store Visualization\"},\"scene\":{\"xaxis\":{\"title\":{\"text\":\"x\"}},\"yaxis\":{\"title\":{\"text\":\"y\"}}},\"width\":800,\"height\":600},                        {\"responsive\": true}                    ).then(function(){\n",
              "                            \n",
              "var gd = document.getElementById('3ffedf66-0b5b-4ebf-947e-070804217c6e');\n",
              "var x = new MutationObserver(function (mutations, observer) {{\n",
              "        var display = window.getComputedStyle(gd).display;\n",
              "        if (!display || display === 'none') {{\n",
              "            console.log([gd, 'removed!']);\n",
              "            Plotly.purge(gd);\n",
              "            observer.disconnect();\n",
              "        }}\n",
              "}});\n",
              "\n",
              "// Listen for the removal of the full notebook cells\n",
              "var notebookContainer = gd.closest('#notebook-container');\n",
              "if (notebookContainer) {{\n",
              "    x.observe(notebookContainer, {childList: true});\n",
              "}}\n",
              "\n",
              "// Listen for the clearing of the current output cell\n",
              "var outputEl = gd.closest('.output');\n",
              "if (outputEl) {{\n",
              "    x.observe(outputEl, {childList: true});\n",
              "}}\n",
              "\n",
              "                        })                };                            </script>        </div>\n",
              "</body>\n",
              "</html>"
            ]
          },
          "metadata": {}
        }
      ]
    }
  ]
}