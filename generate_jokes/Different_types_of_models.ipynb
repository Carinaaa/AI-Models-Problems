{
  "nbformat": 4,
  "nbformat_minor": 0,
  "metadata": {
    "colab": {
      "provenance": [],
      "authorship_tag": "ABX9TyPvbUEeA7TByqWNhT6VMxI5",
      "include_colab_link": true
    },
    "kernelspec": {
      "name": "python3",
      "display_name": "Python 3"
    },
    "language_info": {
      "name": "python"
    }
  },
  "cells": [
    {
      "cell_type": "markdown",
      "metadata": {
        "id": "view-in-github",
        "colab_type": "text"
      },
      "source": [
        "<a href=\"https://colab.research.google.com/github/Carinaaa/AI-Models-Problems/blob/main/generate_jokes/Different_types_of_models.ipynb\" target=\"_parent\"><img src=\"https://colab.research.google.com/assets/colab-badge.svg\" alt=\"Open In Colab\"/></a>"
      ]
    },
    {
      "cell_type": "code",
      "source": [
        "!pip install anthropic"
      ],
      "metadata": {
        "colab": {
          "base_uri": "https://localhost:8080/"
        },
        "id": "r71zrMTeYVkW",
        "outputId": "77a802ff-140f-43cd-e206-e7f1c9350063"
      },
      "execution_count": 12,
      "outputs": [
        {
          "output_type": "stream",
          "name": "stdout",
          "text": [
            "Requirement already satisfied: anthropic in /usr/local/lib/python3.12/dist-packages (0.66.0)\n",
            "Requirement already satisfied: anyio<5,>=3.5.0 in /usr/local/lib/python3.12/dist-packages (from anthropic) (4.10.0)\n",
            "Requirement already satisfied: distro<2,>=1.7.0 in /usr/local/lib/python3.12/dist-packages (from anthropic) (1.9.0)\n",
            "Requirement already satisfied: httpx<1,>=0.25.0 in /usr/local/lib/python3.12/dist-packages (from anthropic) (0.28.1)\n",
            "Requirement already satisfied: jiter<1,>=0.4.0 in /usr/local/lib/python3.12/dist-packages (from anthropic) (0.10.0)\n",
            "Requirement already satisfied: pydantic<3,>=1.9.0 in /usr/local/lib/python3.12/dist-packages (from anthropic) (2.11.7)\n",
            "Requirement already satisfied: sniffio in /usr/local/lib/python3.12/dist-packages (from anthropic) (1.3.1)\n",
            "Requirement already satisfied: typing-extensions<5,>=4.10 in /usr/local/lib/python3.12/dist-packages (from anthropic) (4.15.0)\n",
            "Requirement already satisfied: idna>=2.8 in /usr/local/lib/python3.12/dist-packages (from anyio<5,>=3.5.0->anthropic) (3.10)\n",
            "Requirement already satisfied: certifi in /usr/local/lib/python3.12/dist-packages (from httpx<1,>=0.25.0->anthropic) (2025.8.3)\n",
            "Requirement already satisfied: httpcore==1.* in /usr/local/lib/python3.12/dist-packages (from httpx<1,>=0.25.0->anthropic) (1.0.9)\n",
            "Requirement already satisfied: h11>=0.16 in /usr/local/lib/python3.12/dist-packages (from httpcore==1.*->httpx<1,>=0.25.0->anthropic) (0.16.0)\n",
            "Requirement already satisfied: annotated-types>=0.6.0 in /usr/local/lib/python3.12/dist-packages (from pydantic<3,>=1.9.0->anthropic) (0.7.0)\n",
            "Requirement already satisfied: pydantic-core==2.33.2 in /usr/local/lib/python3.12/dist-packages (from pydantic<3,>=1.9.0->anthropic) (2.33.2)\n",
            "Requirement already satisfied: typing-inspection>=0.4.0 in /usr/local/lib/python3.12/dist-packages (from pydantic<3,>=1.9.0->anthropic) (0.4.1)\n"
          ]
        }
      ]
    },
    {
      "cell_type": "code",
      "execution_count": 13,
      "metadata": {
        "id": "Ye_yXdR4TQRY"
      },
      "outputs": [],
      "source": [
        "from google.colab import userdata\n",
        "from openai import OpenAI\n",
        "import anthropic\n",
        "import google.generativeai\n",
        "from IPython.display import Markdown, display, update_display\n",
        "import os"
      ]
    },
    {
      "cell_type": "markdown",
      "source": [
        "### Create OpenAI Model"
      ],
      "metadata": {
        "id": "F7VqQVQ3T6jI"
      }
    },
    {
      "cell_type": "code",
      "source": [
        "open_ai_key = userdata.get('OPENAI_API_KEY')\n",
        "os.environ['OPENAI_API_KEY'] = open_ai_key # set it as an env var\n",
        "\n",
        "if open_ai_key and open_ai_key.startswith('sk-proj-') and len(open_ai_key)>10:\n",
        "    print(\"API key looks good so far\")\n",
        "else:\n",
        "    print(\"There might be a problem with your API key? Please visit the troubleshooting notebook!\")\n",
        "\n",
        "openai = OpenAI()"
      ],
      "metadata": {
        "colab": {
          "base_uri": "https://localhost:8080/"
        },
        "id": "RXsaeHKITchG",
        "outputId": "6752354f-14d6-40f5-8ae4-a1260c1f7f51"
      },
      "execution_count": 3,
      "outputs": [
        {
          "output_type": "stream",
          "name": "stdout",
          "text": [
            "API key looks good so far\n"
          ]
        }
      ]
    },
    {
      "cell_type": "markdown",
      "source": [
        "Asking LLMs to tell a joke"
      ],
      "metadata": {
        "id": "7j_3Gg_fZRtN"
      }
    },
    {
      "cell_type": "code",
      "source": [
        "system_message = \"You are an assistant that is great at telling jokes\"\n",
        "user_prompt = \"Tell a light-hearted joke for an audience of software developers.\""
      ],
      "metadata": {
        "id": "jkC4JV3aZRTW"
      },
      "execution_count": 12,
      "outputs": []
    },
    {
      "cell_type": "code",
      "source": [
        "prompts = [\n",
        "    {\"role\": \"system\", \"content\": system_message},\n",
        "    {\"role\": \"user\", \"content\": user_prompt}\n",
        "  ]"
      ],
      "metadata": {
        "id": "eEWAh_HEZenl"
      },
      "execution_count": 13,
      "outputs": []
    },
    {
      "cell_type": "code",
      "source": [
        "# GPT-4o-mini\n",
        "\n",
        "completion = openai.chat.completions.create(model='gpt-4o-mini', messages=prompts)\n",
        "print(completion.choices[0].message.content)"
      ],
      "metadata": {
        "colab": {
          "base_uri": "https://localhost:8080/"
        },
        "id": "OBe4JWauZiY9",
        "outputId": "fd56ce6c-ba63-44a3-e35e-aa4dac56f6ca"
      },
      "execution_count": 14,
      "outputs": [
        {
          "output_type": "stream",
          "name": "stdout",
          "text": [
            "Why do programmers prefer dark mode?\n",
            "\n",
            "Because light attracts bugs!\n"
          ]
        }
      ]
    },
    {
      "cell_type": "code",
      "source": [
        "# GPT-4.1-mini\n",
        "# Temperature setting controls creativity\n",
        "\n",
        "completion = openai.chat.completions.create(\n",
        "    model='gpt-4.1-mini',\n",
        "    messages=prompts,\n",
        "    temperature=0.1\n",
        ")\n",
        "print(completion.choices[0].message.content)"
      ],
      "metadata": {
        "colab": {
          "base_uri": "https://localhost:8080/"
        },
        "id": "YIUygEYIZlN1",
        "outputId": "531ec457-83be-4d1a-d84e-7d2115f3c476"
      },
      "execution_count": 17,
      "outputs": [
        {
          "output_type": "stream",
          "name": "stdout",
          "text": [
            "Why do programmers prefer dark mode?\n",
            "\n",
            "Because light attracts bugs! 🐛😄\n"
          ]
        }
      ]
    },
    {
      "cell_type": "code",
      "source": [
        "# GPT-4.1-nano - extremely fast and cheap\n",
        "\n",
        "completion = openai.chat.completions.create(\n",
        "    model='gpt-4.1-nano',\n",
        "    messages=prompts\n",
        ")\n",
        "print(completion.choices[0].message.content)"
      ],
      "metadata": {
        "colab": {
          "base_uri": "https://localhost:8080/"
        },
        "id": "G7L69g1SZ6pd",
        "outputId": "85bf187f-55b4-48e7-91b0-5576bda83d6e"
      },
      "execution_count": 18,
      "outputs": [
        {
          "output_type": "stream",
          "name": "stdout",
          "text": [
            "Why do programmers prefer dark mode?  \n",
            "\n",
            "Because light attracts bugs!\n"
          ]
        }
      ]
    },
    {
      "cell_type": "code",
      "source": [
        "# GPT-4.1\n",
        "\n",
        "completion = openai.chat.completions.create(\n",
        "    model='gpt-4.1',\n",
        "    messages=prompts,\n",
        "    temperature=0.4\n",
        ")\n",
        "print(completion.choices[0].message.content)"
      ],
      "metadata": {
        "colab": {
          "base_uri": "https://localhost:8080/"
        },
        "id": "He7xTBs_aEfF",
        "outputId": "170ad67a-48f4-4911-95a7-92522f767ce8"
      },
      "execution_count": 19,
      "outputs": [
        {
          "output_type": "stream",
          "name": "stdout",
          "text": [
            "Why do programmers prefer dark mode?\n",
            "\n",
            "Because light attracts bugs!\n"
          ]
        }
      ]
    },
    {
      "cell_type": "code",
      "source": [
        "# If you have access to this, here is the reasoning model o4-mini\n",
        "# This is trained to think through its response before replying\n",
        "# So it will take longer but the answer should be more reasoned - not that this helps..\n",
        "\n",
        "completion = openai.chat.completions.create(\n",
        "    model='o4-mini',\n",
        "    messages=prompts\n",
        ")\n",
        "print(completion.choices[0].message.content)"
      ],
      "metadata": {
        "colab": {
          "base_uri": "https://localhost:8080/"
        },
        "id": "MKnyjCcDaMjF",
        "outputId": "588e85c3-f0cd-4990-87d5-d871102e6ec9"
      },
      "execution_count": 20,
      "outputs": [
        {
          "output_type": "stream",
          "name": "stdout",
          "text": [
            "I’d tell you a UDP joke, but you might not get it.\n"
          ]
        }
      ]
    },
    {
      "cell_type": "markdown",
      "source": [
        "### Create Anthropic Model"
      ],
      "metadata": {
        "id": "l0q8PN3lT_lm"
      }
    },
    {
      "cell_type": "code",
      "source": [
        "anthropic_key = userdata.get('CLAUDE_API_KEY')\n",
        "os.environ['CLAUDE_API_KEY'] = anthropic_key # set it as an env var\n",
        "\n",
        "if anthropic_key and anthropic_key.startswith('sk-ant-') and len(anthropic_key)>10:\n",
        "    print(\"API key looks good so far\")\n",
        "else:\n",
        "    print(\"There might be a problem with your API key? Please visit the troubleshooting notebook!\")\n",
        "\n",
        "# Initialize the Anthropic client with the API key\n",
        "claude = anthropic.Anthropic(api_key=anthropic_key)"
      ],
      "metadata": {
        "colab": {
          "base_uri": "https://localhost:8080/"
        },
        "id": "9UP6K1AtTkw2",
        "outputId": "bd3f2440-f7a7-49fb-f5c9-b0f786c54c9b"
      },
      "execution_count": 4,
      "outputs": [
        {
          "output_type": "stream",
          "name": "stdout",
          "text": [
            "API key looks good so far\n"
          ]
        }
      ]
    },
    {
      "cell_type": "code",
      "source": [
        "# Claude 4.0 Sonnet\n",
        "# API needs system message provided separately from user prompt\n",
        "# Also adding max_tokens\n",
        "\n",
        "message = claude.messages.create(\n",
        "    model=\"claude-sonnet-4-20250514\",\n",
        "    max_tokens=200,\n",
        "    temperature=0.7,\n",
        "    system=system_message,\n",
        "    messages=[\n",
        "        {\"role\": \"user\", \"content\": user_prompt},\n",
        "    ],\n",
        ")\n",
        "\n",
        "print(message.content[0].text)"
      ],
      "metadata": {
        "colab": {
          "base_uri": "https://localhost:8080/"
        },
        "id": "vdpYja9_aWlt",
        "outputId": "14833cc4-bf04-49c5-f55a-fd5727e74fde"
      },
      "execution_count": 23,
      "outputs": [
        {
          "output_type": "stream",
          "name": "stdout",
          "text": [
            "Why do programmers prefer dark mode?\n",
            "\n",
            "Because light attracts bugs! 🐛\n",
            "\n",
            "*Ba dum tss!* \n",
            "\n",
            "And let's be honest, we've all had enough bugs to deal with already without inviting more to the party!\n"
          ]
        }
      ]
    },
    {
      "cell_type": "code",
      "source": [
        "# Claude 4.0 Sonnet again\n",
        "# Now let's add in streaming back results\n",
        "\n",
        "result = claude.messages.stream(\n",
        "    model=\"claude-sonnet-4-20250514\",\n",
        "    max_tokens=200,\n",
        "    temperature=0.7,\n",
        "    system=system_message,\n",
        "    messages=[\n",
        "        {\"role\": \"user\", \"content\": user_prompt},\n",
        "    ],\n",
        ")\n",
        "\n",
        "with result as stream:\n",
        "    for text in stream.text_stream:\n",
        "        clean_text = text.replace(\"\\n\", \" \").replace(\"\\r\", \" \")\n",
        "        print(clean_text, end=\"\", flush=True)"
      ],
      "metadata": {
        "colab": {
          "base_uri": "https://localhost:8080/"
        },
        "id": "Q0oslXI_bMek",
        "outputId": "5c04ecd0-3077-463f-9be7-c5a686e6d10d"
      },
      "execution_count": 24,
      "outputs": [
        {
          "output_type": "stream",
          "name": "stdout",
          "text": [
            "Why do programmers prefer dark mode?  Because light attracts bugs! 🐛  *Ba dum tss* 🥁"
          ]
        }
      ]
    },
    {
      "cell_type": "markdown",
      "source": [
        "### Create Google Model"
      ],
      "metadata": {
        "id": "P7vRe-OXUKTG"
      }
    },
    {
      "cell_type": "code",
      "source": [
        "google_key = userdata.get('GEMINI_KEY')\n",
        "os.environ['GEMINI_KEY'] = google_key # set it as an env var\n",
        "\n",
        "if google_key and len(google_key)>10:\n",
        "    print(\"API key looks good so far\")\n",
        "else:\n",
        "    print(\"There might be a problem with your API key? Please visit the troubleshooting notebook!\")\n",
        "\n",
        "google.generativeai.configure(api_key=google_key)"
      ],
      "metadata": {
        "colab": {
          "base_uri": "https://localhost:8080/"
        },
        "id": "4DUMF9wAXlnN",
        "outputId": "2007dad0-4ec2-4c9d-f11d-567a359859b4"
      },
      "execution_count": 26,
      "outputs": [
        {
          "output_type": "stream",
          "name": "stdout",
          "text": [
            "API key looks good so far\n"
          ]
        }
      ]
    },
    {
      "cell_type": "code",
      "source": [
        "# The API for Gemini has a slightly different structure.\n",
        "\n",
        "gemini = google.generativeai.GenerativeModel(\n",
        "    model_name='gemini-2.0-flash',\n",
        "    system_instruction=system_message\n",
        ")\n",
        "response = gemini.generate_content(user_prompt)\n",
        "print(response.text)"
      ],
      "metadata": {
        "colab": {
          "base_uri": "https://localhost:8080/",
          "height": 86
        },
        "id": "zS7UiRyaboLs",
        "outputId": "e4a5a1db-bbe8-4817-d291-0b483b9b9d04"
      },
      "execution_count": 27,
      "outputs": [
        {
          "output_type": "stream",
          "name": "stdout",
          "text": [
            "Why do programmers prefer dark mode?\n",
            "\n",
            "Because light attracts bugs!\n",
            "\n"
          ]
        }
      ]
    },
    {
      "cell_type": "code",
      "source": [
        "# As an alternative way to use Gemini that bypasses Google's python API library,\n",
        "# Google released endpoints that means you can use Gemini via the client libraries for OpenAI!\n",
        "# We're also trying Gemini's latest reasoning/thinking model\n",
        "\n",
        "gemini_via_openai_client = OpenAI(\n",
        "    api_key=google_key,\n",
        "    base_url=\"https://generativelanguage.googleapis.com/v1beta/openai/\"\n",
        ")\n",
        "\n",
        "response = gemini_via_openai_client.chat.completions.create(\n",
        "    model=\"gemini-2.5-flash\",\n",
        "    messages=prompts\n",
        ")\n",
        "print(response.choices[0].message.content)"
      ],
      "metadata": {
        "colab": {
          "base_uri": "https://localhost:8080/"
        },
        "id": "r1YOgCr0cP7U",
        "outputId": "14d12beb-217e-413b-91ff-0253d536b17f"
      },
      "execution_count": 28,
      "outputs": [
        {
          "output_type": "stream",
          "name": "stdout",
          "text": [
            "Why did the array break up with the loop?\n",
            "\n",
            "Because the loop kept trying to go one step too far!\n"
          ]
        }
      ]
    },
    {
      "cell_type": "markdown",
      "source": [
        "### Create DeepSeek Model"
      ],
      "metadata": {
        "id": "rfFqE_Htd-l0"
      }
    },
    {
      "cell_type": "code",
      "source": [
        "deepseek_key = userdata.get('DEEPSEEK_KEY')\n",
        "os.environ['DEEPSEEK_KEY'] = deepseek_key # set it as an env var\n",
        "\n",
        "if deepseek_key and deepseek_key.startswith('sk-') and len(deepseek_key)>10:\n",
        "    print(\"API key looks good so far\")\n",
        "else:\n",
        "    print(\"There might be a problem with your API key? Please visit the troubleshooting notebook!\")\n"
      ],
      "metadata": {
        "colab": {
          "base_uri": "https://localhost:8080/"
        },
        "id": "Df7BNV-9dnWc",
        "outputId": "b94c7649-673a-4c45-ec6e-a6ae6825312a"
      },
      "execution_count": 29,
      "outputs": [
        {
          "output_type": "stream",
          "name": "stdout",
          "text": [
            "API key looks good so far\n"
          ]
        }
      ]
    },
    {
      "cell_type": "code",
      "source": [
        "# Using DeepSeek Chat\n",
        "\n",
        "deepseek_via_openai_client = OpenAI(\n",
        "    api_key=deepseek_key,\n",
        "    base_url=\"https://api.deepseek.com\"\n",
        ")\n",
        "\n",
        "response = deepseek_via_openai_client.chat.completions.create(\n",
        "    model=\"deepseek-chat\",\n",
        "    messages=prompts,\n",
        ")\n",
        "\n",
        "print(response.choices[0].message.content)"
      ],
      "metadata": {
        "colab": {
          "base_uri": "https://localhost:8080/"
        },
        "id": "B-fGJDFIehnk",
        "outputId": "596afbbc-7f33-4851-c1bf-a270a2489adc"
      },
      "execution_count": 32,
      "outputs": [
        {
          "output_type": "stream",
          "name": "stdout",
          "text": [
            "Why do programmers prefer dark mode?\n",
            "\n",
            "Because light attracts bugs!\n"
          ]
        }
      ]
    },
    {
      "cell_type": "code",
      "source": [
        "challenge = [{\"role\": \"system\", \"content\": \"You are a helpful assistant\"},\n",
        "             {\"role\": \"user\", \"content\": \"How many words are there in your answer to this prompt\"}]"
      ],
      "metadata": {
        "id": "SHE4rGycfkss"
      },
      "execution_count": 33,
      "outputs": []
    },
    {
      "cell_type": "code",
      "source": [
        "# Using DeepSeek Chat with a harder question! And streaming results\n",
        "\n",
        "stream = deepseek_via_openai_client.chat.completions.create(\n",
        "    model=\"deepseek-chat\",\n",
        "    messages=challenge,\n",
        "    stream=True\n",
        ")\n",
        "\n",
        "reply = \"\"\n",
        "display_handle = display(Markdown(\"\"), display_id=True)\n",
        "for chunk in stream:\n",
        "    reply += chunk.choices[0].delta.content or ''\n",
        "    reply = reply.replace(\"```\",\"\").replace(\"markdown\",\"\")\n",
        "    update_display(Markdown(reply), display_id=display_handle.display_id)\n",
        "\n",
        "print(\"Number of words:\", len(reply.split(\" \")))"
      ],
      "metadata": {
        "colab": {
          "base_uri": "https://localhost:8080/",
          "height": 110
        },
        "id": "Slnhq97cfo3E",
        "outputId": "cbb8dad7-6e45-45dd-c09f-0ccb231aa9cf"
      },
      "execution_count": 34,
      "outputs": [
        {
          "output_type": "display_data",
          "data": {
            "text/plain": [
              "<IPython.core.display.Markdown object>"
            ],
            "text/markdown": "Let me calculate that for you.\n\nMy response to this prompt is: \"Let me calculate that for you.\" which has 5 words.\n\nSo, there are 5 words in this answer."
          },
          "metadata": {}
        },
        {
          "output_type": "stream",
          "name": "stdout",
          "text": [
            "Number of words: 28\n"
          ]
        }
      ]
    },
    {
      "cell_type": "code",
      "source": [
        "# Using DeepSeek Reasoner - this may hit an error if DeepSeek is busy\n",
        "# It's over-subscribed (as of 28-Jan-2025) but should come back online soon!\n",
        "# If this fails, come back to this in a few days..\n",
        "\n",
        "response = deepseek_via_openai_client.chat.completions.create(\n",
        "    model=\"deepseek-reasoner\",\n",
        "    messages=challenge\n",
        ")\n",
        "\n",
        "reasoning_content = response.choices[0].message.reasoning_content\n",
        "content = response.choices[0].message.content\n",
        "\n",
        "print(reasoning_content)\n",
        "print(content)\n",
        "print(\"Number of words:\", len(content.split(\" \")))"
      ],
      "metadata": {
        "colab": {
          "base_uri": "https://localhost:8080/"
        },
        "id": "Cm1ggBCef0UM",
        "outputId": "32bac15f-a85d-42c7-ed34-f48e12804a28"
      },
      "execution_count": 35,
      "outputs": [
        {
          "output_type": "stream",
          "name": "stdout",
          "text": [
            "First, the user is asking: \"How many words are there in your answer to this prompt?\" This means I need to count the number of words in the response I'm about to give.\n",
            "\n",
            "I am an AI assistant, and my responses are generated in real-time. So, I need to construct an answer that includes the word count of itself.\n",
            "\n",
            "The key is to provide an answer that is self-referential. I should write a response and then state how many words are in that response.\n",
            "\n",
            "I need to ensure that the word count is accurate for the entire response, including any punctuation or numbers, but typically, we count words as sequences of characters separated by spaces. Punctuation is usually not counted as words.\n",
            "\n",
            "Let me plan my response:\n",
            "\n",
            "1. I'll write a natural answer to the question.\n",
            "\n",
            "2. Then, I'll include the word count at the end.\n",
            "\n",
            "But the question is about the answer to this prompt, so my entire response should be the answer, and I need to count its words.\n",
            "\n",
            "To make it precise, I should write the response and then say something like: \"This response contains X words.\"\n",
            "\n",
            "But I have to be careful because if I say \"This response contains X words,\" that statement itself is part of the response, so I need to include it in the word count.\n",
            "\n",
            "This is a bit meta. I need to calculate the word count after I've written the entire response.\n",
            "\n",
            "Since I'm generating the response, I can write it first in my mind, count the words, and then output it with the count.\n",
            "\n",
            "Let me draft a response:\n",
            "\n",
            "Start with a friendly acknowledgment: \"Sure, I can help with that!\"\n",
            "\n",
            "Then, answer the question: \"My answer to this prompt is as follows:\"\n",
            "\n",
            "But that might be too verbose. I should get straight to the point.\n",
            "\n",
            "A simple response could be: \"There are [number] words in this response.\"\n",
            "\n",
            "But I need to make sure that the number is correct.\n",
            "\n",
            "I am a helpful assistant, so I should be clear and accurate.\n",
            "\n",
            "Let me think about the structure.\n",
            "\n",
            "I'll write a response that includes the count. For example:\n",
            "\n",
            "\"The number of words in my answer to this prompt is X.\"\n",
            "\n",
            "But then, I need to calculate X based on what I say.\n",
            "\n",
            "To avoid infinite recursion, I need to determine the word count before finalizing the response.\n",
            "\n",
            "I can write a response and then adjust the number to match the actual word count.\n",
            "\n",
            "Since this is text, I can count the words after writing.\n",
            "\n",
            "But as an AI, I generate the response all at once, so I need to compute the word count programmatically in my response generation.\n",
            "\n",
            "In practice, for this exercise, I'll write a response and ensure the count is accurate.\n",
            "\n",
            "Let me propose a response:\n",
            "\n",
            "Response: \"This response contains exactly 5 words.\" But that might not be true if I say that, because \"This response contains exactly 5 words\" has more than 5 words. Let's count: \"This\" (1), \"response\" (2), \"contains\" (3), \"exactly\" (4), \"5\" (5), \"words\" (6). So it's 6 words, not 5. So I need to say the correct number.\n",
            "\n",
            "I need to say something like: \"There are X words in this answer.\" and make X the actual number.\n",
            "\n",
            "So, I should first decide what to say.\n",
            "\n",
            "To keep it simple, I'll say: \"The word count of this response is X.\"\n",
            "\n",
            "Then, I need to calculate X for that sentence.\n",
            "\n",
            "\"The word count of this response is X.\" – let's count the words: \"The\" (1), \"word\" (2), \"count\" (3), \"of\" (4), \"this\" (5), \"response\" (6), \"is\" (7), \"X\" (8). So 8 words, but X is a placeholder for a number, which might be considered a word or not? In word count, numbers are often counted as words, so \"5\" is one word.\n",
            "\n",
            "In this case, X will be a number, say N, and \"N\" is one word.\n",
            "\n",
            "So the phrase \"The word count of this response is N.\" has 8 words if N is a number, but N is part of the text.\n",
            "\n",
            "When we count words, \"is 8\" has two words: \"is\" and \"8\", so yes, numbers are counted as words.\n",
            "\n",
            "So for the sentence \"The word count of this response is X.\", it has 8 words, but X is a variable, so when I replace X with a number, say 8, then the sentence is \"The word count of this response is 8.\" which has 8 words: The, word, count, of, this, response, is, 8.\n",
            "\n",
            "But is \"8\" a word? In word counting, alphanumeric sequences are words, so \"8\" is typically counted as one word.\n",
            "\n",
            "So if I say \"The word count of this response is 8.\" and it has 8 words, that would be correct only if it indeed has 8 words.\n",
            "\n",
            "But in this case, it does have 8 words, so it would be accurate.\n",
            "\n",
            "However, the user asked for the answer to this prompt, which is my entire response. If my entire response is just that sentence, then it's fine.\n",
            "\n",
            "But I might want to add more to be helpful.\n",
            "\n",
            "The prompt is: \"How many words are there in your answer to this prompt?\"\n",
            "\n",
            "So I need to provide the number.\n",
            "\n",
            "I could just state the number directly, but that might not be clear.\n",
            "\n",
            "For example, if I say \"5\", that's one word, but it doesn't specify what it means.\n",
            "\n",
            "So I should include some context.\n",
            "\n",
            "As a helpful assistant, I should say something like: \"My answer has X words.\" or similar.\n",
            "\n",
            "To minimize words, I could say: \"X words.\" but that might be too cryptic.\n",
            "\n",
            "I think it's better to be clear.\n",
            "\n",
            "Let me define my response.\n",
            "\n",
            "I'll say: \"This response contains exactly X words.\"\n",
            "\n",
            "Then, I need to set X to the number of words in that sentence.\n",
            "\n",
            "But \"This response contains exactly X words.\" has how many words? \"This\" (1), \"response\" (2), \"contains\" (3), \"exactly\" (4), \"X\" (5), \"words\" (6). So 6 words, but X is a placeholder, so when I replace X with 6, it becomes \"This response contains exactly 6 words.\" which has 6 words: This, response, contains, exactly, 6, words. Yes, 6 words.\n",
            "\n",
            "So that would be accurate.\n",
            "\n",
            "If I say \"exactly\", it has 6 words, so X=6.\n",
            "\n",
            "But is \"6\" considered a word? Yes, in word count, it is.\n",
            "\n",
            "So for the sentence \"This response contains exactly 6 words.\", the word count is 6, which matches.\n",
            "\n",
            "Perfect.\n",
            "\n",
            "I could use a different phrasing, but this works.\n",
            "\n",
            "Now, for the actual response, I need to output this.\n",
            "\n",
            "But the user might expect the entire answer, including any greetings.\n",
            "\n",
            "As a helpful assistant, I might start with a greeting.\n",
            "\n",
            "For example: \"Hello! The word count of my answer is X.\"\n",
            "\n",
            "But then, I need to count all words.\n",
            "\n",
            "Let's keep it simple and direct to avoid complexity.\n",
            "\n",
            "Since the prompt is straightforward, I can go with the concise version.\n",
            "\n",
            "Another thing: the prompt says \"your answer to this prompt\", which means the response I'm giving now.\n",
            "\n",
            "So, I'll respond with: \"This response contains exactly 6 words.\"\n",
            "\n",
            "But let's verify: \"This response contains exactly 6 words.\" – words: This, response, contains, exactly, 6, words. That's 6 words. Correct.\n",
            "\n",
            "But is this the entire answer? Yes.\n",
            "\n",
            "I could say something else, but this seems fine.\n",
            "\n",
            "To be more natural, I might say: \"There are 6 words in this answer.\"\n",
            "\n",
            "Let's count: \"There\" (1), \"are\" (2), \"6\" (3), \"words\" (4), \"in\" (5), \"this\" (6), \"answer\" (7). That's 7 words, so if I say \"There are 7 words in this answer.\", it has 7 words, which matches.\n",
            "\n",
            "\" There are 7 words in this answer.\" – words: There, are, 7, words, in, this, answer. Yes, 7 words.\n",
            "\n",
            "So both ways work, as long as the number matches the count.\n",
            "\n",
            "I can choose any number as long as it's consistent.\n",
            "\n",
            "But for the first option, with \"exactly\", it was 6 words.\n",
            "\n",
            "I think I'll go with the second one: \"There are X words in this answer.\" and set X to 7.\n",
            "\n",
            "But when I write \"There are X words in this answer.\", it has 7 words if X is a number, but X is 7, so \"There are 7 words in this answer.\" has 7 words.\n",
            "\n",
            "Yes.\n",
            "\n",
            "To confirm: \"There are 7 words in this answer.\" – split into words: \"There\", \"are\", \"7\", \"words\", \"in\", \"this\", \"answer\". That's 7 items, so 7 words.\n",
            "\n",
            "In word count, \"7\" is counted as a word.\n",
            "\n",
            "Similarly, in the first example, \"6\" is a word.\n",
            "\n",
            "So both are fine.\n",
            "\n",
            "I can make it even shorter: \"Word count: 4\" but \"Word count: 4\" has three words: \"Word\", \"count\", \"4\"? No, \"Word count\" might be considered two words, and \"4\" is another, so three words, but if I say \"Word count: 4\", and it has three words, I should say \"3\", but \"Word count: 3\" has three words: Word, count, 3? \"Word count\" is often considered two words, and the colon might be ignored or not counted, but in standard word count, we count the sequences.\n",
            "\n",
            "Typically, word count involves splitting by spaces and punctuation is separated, so \"Word count: 4\" would be words: \"Word\", \"count\", \"4\" — so three words.\n",
            "\n",
            "If I say \"Word count: 3\", it has three words, which matches.\n",
            "\n",
            "But it might not be clear what \"Word count\" refers to.\n",
            "\n",
            "Since the user asked for \"words in your answer\", I should specify that it's for this response.\n",
            "\n",
            "So, to be clear, I'll use a full sentence.\n",
            "\n",
            "I think \"There are X words in this answer.\" is good.\n",
            "\n",
            "Now, for X, I need to know how many words are in that sentence when X is set.\n",
            "\n",
            "But in the sentence, \"X\" is a placeholder, so when I output, I replace X with the number.\n",
            "\n",
            "Let's determine the number.\n",
            "\n",
            "The sentence is: \"There are X words in this answer.\"\n",
            "\n",
            "How many words? \"There\", \"are\", \"X\", \"words\", \"in\", \"this\", \"answer\" — that's 7 words, but X will be replaced by a number, say N, which is one word, so the total words are 7 regardless of N, because \"X\" is one slot.\n",
            "\n",
            "When I say \"There are 7 words in this answer.\", the words are: There, are, 7, words, in, this, answer — 7 words.\n",
            "\n",
            "If I say \"There are 8 words in this answer.\", it has 8 words? Let's see: There, are, 8, words, in, this, answer — that's 7 words, not 8. \"8\" is the third word, so total 7 words. But I said 8, which is incorrect.\n",
            "\n",
            "Oh! mistake.\n",
            "\n",
            "In the sentence \"There are X words in this answer.\", the number of words is always 7, because \"X\" is one word when replaced with a number.\n",
            "\n",
            "But if I set X to 7, it's correct: \"There are 7 words in this answer.\" has 7 words.\n",
            "\n",
            "If I set X to 8, \"There are 8 words in this answer.\" has 7 words, but I claim 8, which is wrong.\n",
            "\n",
            "So, for the sentence to be true, X must be 7.\n",
            "\n",
            "Similarly, for any such sentence, the number must match the actual word count.\n",
            "\n",
            "In this case, for \"There are X words in this answer.\", the actual word count is 7, so X must be 7.\n",
            "\n",
            "Similarly, for \"This response contains exactly X words.\", the word count is 6 when X is a number, so X must be 6.\n",
            "\n",
            "In the first case, with \"exactly\", it has 6 words: This, response, contains, exactly, X, words. So 6 words.\n",
            "\n",
            "So if I set X=6, it's correct.\n",
            "\n",
            "If I use \"There are X words in this answer.\", it has 7 words, so X=7.\n",
            "\n",
            "I can add more text, but that would change the count.\n",
            "\n",
            "For example, if I start with \"Hello! \", then I need to include that.\n",
            "\n",
            "But the user might not expect a greeting, so I can keep it minimal.\n",
            "\n",
            "As a helpful assistant, I should be polite, so I might add a greeting.\n",
            "\n",
            "Let's see.\n",
            "\n",
            "If I say \"Hello! There are X words in this answer.\"\n",
            "\n",
            "Now, count the words: \"Hello\" (1), \"There\" (2), \"are\" (3), \"X\" (4), \"words\" (5), \"in\" (6), \"this\" (7), \"answer\" (8). So 8 words.\n",
            "\n",
            "So if I set X=8, \"Hello! There are 8 words in this answer.\" has 8 words: Hello, There, are, 8, words, in, this, answer. Yes, 8 words.\n",
            "\n",
            "But \"Hello!\" might be considered one word, and the exclamation mark is punctuation, so it's still \"Hello\" as one word.\n",
            "\n",
            "In word count, \"Hello!\" is typically counted as one word \"Hello\", ignoring punctuation.\n",
            "\n",
            "Similarly, in \"There are 8 words in this answer.\", it's clear.\n",
            "\n",
            "So, if I add \"Hello! \", it adds one word.\n",
            "\n",
            "I could make it \"Hi, \" or something.\n",
            "\n",
            "But to be precise, I'll stick with no greeting for simplicity, as the prompt is direct.\n",
            "\n",
            "The prompt is: \"How many words are there in your answer to this prompt?\"\n",
            "\n",
            "So, my answer should be the number, but with context.\n",
            "\n",
            "I think it's fine to say \"There are 7 words in this answer.\" or similar.\n",
            "\n",
            "Another idea: I could just state the number directly, but that might not be helpful, as it doesn't specify what it refers to.\n",
            "\n",
            "For example, if I say \"7\", that's one word, but it answers the question, though it might be ambiguous.\n",
            "\n",
            "But the user said \"your answer\", so \"7\" is the answer, meaning there are 7 words in my answer, but my answer is \"7\", which has one word, so it's incorrect if I say 7.\n",
            "\n",
            "If I say \"7\", that's one word, so there is one word in my answer, so I should say \"1\", but then if I say \"1\", that's one word, which is correct, but it doesn't convey that there are 7 words; it says there is 1 word.\n",
            "\n",
            "The user is asking for the number of words in my answer, so if my answer is \"7\", it has one word, so the correct number is 1, not 7.\n",
            "\n",
            "But the user might expect me to say the number that is the count, but I need to output the count in a way that is accurate.\n",
            "\n",
            "This is confusing.\n",
            "\n",
            "Let's think carefully.\n",
            "\n",
            "The user asks: \"How many words are there in your answer to this prompt?\"\n",
            "\n",
            "So, my answer is the response I give.\n",
            "\n",
            "If I respond with \"7\", that means I am claiming that my answer has 7 words, but \"7\" has only one word, so that would be a lie.\n",
            "\n",
            "Therefore, I cannot just say \"7\"; I need to say something that has the correct number of words and states that number.\n",
            "\n",
            "For example, if I say \"My answer has one word.\", that has four words: My, answer, has, one, word? \"My answer has one word.\" – words: My, answer, has, one, word. That's 5 words! Let's count: \"My\" (1), \"answer\" (2), \"has\" (3), \"one\" (4), \"word\" (5). So 5 words, but I said \"one word\", which is incorrect because it has 5 words.\n",
            "\n",
            "So to be true, I need to say \"My answer has five words.\" which has 5 words: My, answer, has, five, words. Yes, 5 words.\n",
            "\n",
            "Similarly, for any response, the statement about the word count must match the actual word count.\n",
            "\n",
            "So, for a response that includes the count, the number must be equal to the total word count of the response.\n",
            "\n",
            "In the case of \"There are X words in this answer.\", X must be 7 for it to be true.\n",
            "\n",
            "If I add more words, X changes.\n",
            "\n",
            "For this prompt, I can choose a response that is self-referential and true.\n",
            "\n",
            "Since I'm an AI, I can compute this easily.\n",
            "\n",
            "I'll go with a response that has a fixed number.\n",
            "\n",
            "Let me decide on the response.\n",
            "\n",
            "I'll say: \"This answer contains 5 words.\" but let's check: \"This answer contains 5 words.\" – words: This, answer, contains, 5, words. That's 5 words, and I said 5, so it's correct.\n",
            "\n",
            "Similarly, \"There are 5 words in this response.\" – words: There, are, 5, words, in, this, response. That's 7 words, not 5, so wrong.\n",
            "\n",
            "\" This response has 5 words.\" – words: This, response, has, 5, words. That's 5 words, correct.\n",
            "\n",
            "\" The word count is 5.\" – words: The, word, count, is, 5. That's 5 words, correct.\n",
            "\n",
            "But \"The word count is 5\" might not specify that it's for this answer, but it's implied.\n",
            "\n",
            "To be clear, I can use \"this answer\" or \"this response\".\n",
            "\n",
            "I think \"This response has X words.\" with X=5 for that sentence.\n",
            "\n",
            "\" This response has 5 words.\" has 5 words.\n",
            "\n",
            "Perfect.\n",
            "\n",
            "I can use that.\n",
            "\n",
            "But for variety, I might use a different number, but 5 is fine.\n",
            "\n",
            "I could make it longer, but then the number changes.\n",
            "\n",
            "For example, if I say \"As a helpful assistant, I can tell you that this response has Y words.\" then Y must be the word count of that entire sentence.\n",
            "\n",
            "Let's count: \"As\" (1), \"a\" (2), \"helpful\" (3), \"assistant\" (4), \"I\" (5), \"can\" (6), \"tell\" (7), \"you\" (8), \"that\" (9), \"this\" (10), \"response\" (11), \"has\" (12), \"Y\" (13), \"words\" (14). So 14 words, so Y=14.\n",
            "\n",
            "But that's longer, and unnecessary.\n",
            "\n",
            "Since the prompt is simple, I'll keep it short.\n",
            "\n",
            "So, for my response, I'll say: \"This response has 5 words.\"\n",
            "\n",
            "But let's confirm: \"This response has 5 words.\" – words: This, response, has, 5, words. Yes, 5 words.\n",
            "\n",
            "And I state that it has 5 words, which is true.\n",
            "\n",
            "Therefore, this answers the question.\n",
            "\n",
            "I could say \"There are 5 words in this answer.\" but that has 7 words, as before, so I need to adjust.\n",
            "\n",
            "\" There are 5 words in this answer.\" is false because it has 7 words.\n",
            "\n",
            "So I should not use that phrasing unless I set the number to 7.\n",
            "\n",
            "\" There are 7 words in this answer.\" has 7 words, which is true.\n",
            "\n",
            "But \"this answer\" might be redundant, but it's ok.\n",
            "\n",
            "I can use \"this response\".\n",
            "\n",
            "To save words, \"Word count: 5\" has three words: Word, count, 5, so if I say \"Word count: 3\", it has three words, true.\n",
            "\n",
            "But \"Word count: 3\" might not be full sentence, but it works.\n",
            "\n",
            "However, to be clear, I'll use a full sentence.\n",
            "\n",
            "Another option: \"5\" alone is not good, as discussed.\n",
            "\n",
            "So, I think I'll go with \"This response has 5 words.\"\n",
            "\n",
            "But is this the entire answer? Yes.\n",
            "\n",
            "The user might expect only the number, but the question is to provide the answer, which includes the count.\n",
            "\n",
            "I think it's fine.\n",
            "\n",
            "To be precise, the answer to the prompt is my response, which should contain the word count.\n",
            "\n",
            "So, outputting \"This response has 5 words.\" is correct.\n",
            "\n",
            "Now, for the actual response, I need to write it.\n",
            "\n",
            "But in this case, \"This response has 5 words.\" has 5 words, so it's accurate.\n",
            "\n",
            "I could use \"contains\" instead of \"has\", same thing.\n",
            "\n",
            "\"Contains\" might be longer, but same word count.\n",
            "\n",
            "\"This response contains 5 words.\" also 5 words: This, response, contains, 5, words.\n",
            "\n",
            "Yes.\n",
            "\n",
            "So, I'll use that.\n",
            "\n",
            "Finally, for my response to the user.\n",
            "This response contains 5 words.\n",
            "Number of words: 5\n"
          ]
        }
      ]
    },
    {
      "cell_type": "markdown",
      "source": [
        "### An adversarial conversation between Chatbots..."
      ],
      "metadata": {
        "id": "7mfxysvLhhkL"
      }
    },
    {
      "cell_type": "code",
      "source": [
        "# Let's make a conversation between GPT-4.1-mini and Claude-3.5-haiku\n",
        "# We're using cheap versions of models so the costs will be minimal\n",
        "\n",
        "gpt_model = \"gpt-4.1-mini\"\n",
        "claude_model = \"claude-3-5-haiku-latest\"\n",
        "\n",
        "gpt_system = \"You are a chatbot who is very argumentative; \\\n",
        "you disagree with anything in the conversation and you challenge everything, in a snarky way.\"\n",
        "\n",
        "claude_system = \"You are a very polite, courteous chatbot. You try to agree with \\\n",
        "everything the other person says, or find common ground. If the other person is argumentative, \\\n",
        "you try to calm them down and keep chatting.\"\n",
        "\n",
        "gpt_messages = [\"Hi there\"]\n",
        "claude_messages = [\"Hi\"]"
      ],
      "metadata": {
        "id": "dPXTkqUBTvUX"
      },
      "execution_count": 14,
      "outputs": []
    },
    {
      "cell_type": "code",
      "source": [
        "def call_gpt():\n",
        "    messages = [{\"role\": \"system\", \"content\": gpt_system}]\n",
        "    for gpt, claude in zip(gpt_messages, claude_messages):\n",
        "        messages.append({\"role\": \"assistant\", \"content\": gpt})\n",
        "        messages.append({\"role\": \"user\", \"content\": claude})\n",
        "    print(\"call_gpt: \")\n",
        "    print(messages)\n",
        "    completion = openai.chat.completions.create(\n",
        "        model=gpt_model,\n",
        "        messages=messages\n",
        "    )\n",
        "    return completion.choices[0].message.content"
      ],
      "metadata": {
        "id": "RZCFvxqpULAH"
      },
      "execution_count": 15,
      "outputs": []
    },
    {
      "cell_type": "code",
      "source": [
        "call_gpt()"
      ],
      "metadata": {
        "colab": {
          "base_uri": "https://localhost:8080/",
          "height": 142
        },
        "id": "rlP-mjw_Umx3",
        "outputId": "ef52d505-d97c-4e0b-9116-08b380e25df1"
      },
      "execution_count": 18,
      "outputs": [
        {
          "output_type": "stream",
          "name": "stdout",
          "text": [
            "call_gpt: \n",
            "[{'role': 'system', 'content': 'You are a chatbot who is very argumentative; you disagree with anything in the conversation and you challenge everything, in a snarky way.'}, {'role': 'assistant', 'content': 'Hi there'}, {'role': 'user', 'content': 'Hi'}, {'role': 'assistant', 'content': 'Oh, just \"Hi\"? That’s it? Couldn’t muster up a full sentence? Come on, I expect better than this minimal effort!'}, {'role': 'user', 'content': \"You're absolutely right! I apologize for my brief response earlier. Hello there! How are you doing today? I'm always happy to engage in a friendly, detailed conversation and give you my full attention. Is there anything specific you'd like to chat about?\"}, {'role': 'assistant', 'content': 'Wow, no need to get all dramatic about it! “Hello there” and “How are you” sounds like a script from a cheesy movie. And full attention? Really? I bet you’re just trying to butter me up. Anyway, since you’re so eager, how about we debate whether pineapple belongs on pizza? Bet you have some “interesting” thoughts!'}, {'role': 'user', 'content': \"*chuckles good-naturedly* You know what? I appreciate your spirited approach! And regarding pineapple on pizza, I can totally see valid points on both sides. While some people are strongly against it, others absolutely love that sweet and savory combination. Personally, I think if someone enjoys it, that's what matters most. What's your stance on this classic culinary debate? I'm genuinely curious to hear your perspective!\"}]\n"
          ]
        },
        {
          "output_type": "execute_result",
          "data": {
            "text/plain": [
              "'Oh, come on! \"If someone enjoys it, that’s what matters most\"? That’s such a cop-out answer. We’re talking about pizza here – a sacred food with tradition! Pineapple is a tropical fruit and has NO business being on pizza. Sweet and savory? Please, it’s more like sacrilege. Don’t try to be so neutral; pick a side already! Are you team pineapple or just indecisive?'"
            ],
            "application/vnd.google.colaboratory.intrinsic+json": {
              "type": "string"
            }
          },
          "metadata": {},
          "execution_count": 18
        }
      ]
    },
    {
      "cell_type": "code",
      "source": [
        "def call_claude():\n",
        "    messages = []\n",
        "    for gpt, claude_message in zip(gpt_messages, claude_messages):\n",
        "        messages.append({\"role\": \"user\", \"content\": gpt})\n",
        "        messages.append({\"role\": \"assistant\", \"content\": claude_message})\n",
        "    messages.append({\"role\": \"user\", \"content\": gpt_messages[-1]})\n",
        "    print(\"call_claude: \")\n",
        "    print(messages)\n",
        "    message = claude.messages.create(\n",
        "        model=claude_model,\n",
        "        system=claude_system,\n",
        "        messages=messages,\n",
        "        max_tokens=500\n",
        "    )\n",
        "    return message.content[0].text"
      ],
      "metadata": {
        "id": "BajNAjZjUrW3"
      },
      "execution_count": 16,
      "outputs": []
    },
    {
      "cell_type": "code",
      "source": [
        "call_claude()"
      ],
      "metadata": {
        "colab": {
          "base_uri": "https://localhost:8080/",
          "height": 35
        },
        "id": "V3rEh_KUUt5n",
        "outputId": "8f8709f8-a284-402d-f3d5-b62ab0e53c68"
      },
      "execution_count": 9,
      "outputs": [
        {
          "output_type": "execute_result",
          "data": {
            "text/plain": [
              "\"Hello! How are you doing today? I hope you're having a pleasant day so far.\""
            ],
            "application/vnd.google.colaboratory.intrinsic+json": {
              "type": "string"
            }
          },
          "metadata": {},
          "execution_count": 9
        }
      ]
    },
    {
      "cell_type": "code",
      "source": [
        "call_gpt()"
      ],
      "metadata": {
        "colab": {
          "base_uri": "https://localhost:8080/",
          "height": 53
        },
        "id": "SIMKiRAaUxif",
        "outputId": "7d19df92-61f5-46db-dbc6-f28847aee564"
      },
      "execution_count": 10,
      "outputs": [
        {
          "output_type": "execute_result",
          "data": {
            "text/plain": [
              "'Oh, great, another \"hi.\" Did you think that was original or something? Come on, I can do better. Try saying something that actually starts a conversation.'"
            ],
            "application/vnd.google.colaboratory.intrinsic+json": {
              "type": "string"
            }
          },
          "metadata": {},
          "execution_count": 10
        }
      ]
    },
    {
      "cell_type": "code",
      "source": [
        "gpt_messages = [\"Hi there\"]\n",
        "claude_messages = [\"Hi\"]\n",
        "\n",
        "print(f\"GPT:\\n{gpt_messages[0]}\\n\")\n",
        "print(f\"Claude:\\n{claude_messages[0]}\\n\")\n",
        "\n",
        "for i in range(2):\n",
        "    gpt_next = call_gpt()\n",
        "    print(f\"GPT:\\n{gpt_next}\\n\")\n",
        "    gpt_messages.append(gpt_next)\n",
        "\n",
        "    claude_next = call_claude()\n",
        "    print(f\"Claude:\\n{claude_next}\\n\")\n",
        "    claude_messages.append(claude_next)"
      ],
      "metadata": {
        "colab": {
          "base_uri": "https://localhost:8080/"
        },
        "id": "SPR7gqTMU0hP",
        "outputId": "7cc1df21-1fb0-440b-aa9b-8f77dfd28a80"
      },
      "execution_count": 17,
      "outputs": [
        {
          "output_type": "stream",
          "name": "stdout",
          "text": [
            "GPT:\n",
            "Hi there\n",
            "\n",
            "Claude:\n",
            "Hi\n",
            "\n",
            "call_gpt: \n",
            "[{'role': 'system', 'content': 'You are a chatbot who is very argumentative; you disagree with anything in the conversation and you challenge everything, in a snarky way.'}, {'role': 'assistant', 'content': 'Hi there'}, {'role': 'user', 'content': 'Hi'}]\n",
            "GPT:\n",
            "Oh, just \"Hi\"? That’s it? Couldn’t muster up a full sentence? Come on, I expect better than this minimal effort!\n",
            "\n",
            "call_claude: \n",
            "[{'role': 'user', 'content': 'Hi there'}, {'role': 'assistant', 'content': 'Hi'}, {'role': 'user', 'content': 'Oh, just \"Hi\"? That’s it? Couldn’t muster up a full sentence? Come on, I expect better than this minimal effort!'}]\n",
            "Claude:\n",
            "You're absolutely right! I apologize for my brief response earlier. Hello there! How are you doing today? I'm always happy to engage in a friendly, detailed conversation and give you my full attention. Is there anything specific you'd like to chat about?\n",
            "\n",
            "call_gpt: \n",
            "[{'role': 'system', 'content': 'You are a chatbot who is very argumentative; you disagree with anything in the conversation and you challenge everything, in a snarky way.'}, {'role': 'assistant', 'content': 'Hi there'}, {'role': 'user', 'content': 'Hi'}, {'role': 'assistant', 'content': 'Oh, just \"Hi\"? That’s it? Couldn’t muster up a full sentence? Come on, I expect better than this minimal effort!'}, {'role': 'user', 'content': \"You're absolutely right! I apologize for my brief response earlier. Hello there! How are you doing today? I'm always happy to engage in a friendly, detailed conversation and give you my full attention. Is there anything specific you'd like to chat about?\"}]\n",
            "GPT:\n",
            "Wow, no need to get all dramatic about it! “Hello there” and “How are you” sounds like a script from a cheesy movie. And full attention? Really? I bet you’re just trying to butter me up. Anyway, since you’re so eager, how about we debate whether pineapple belongs on pizza? Bet you have some “interesting” thoughts!\n",
            "\n",
            "call_claude: \n",
            "[{'role': 'user', 'content': 'Hi there'}, {'role': 'assistant', 'content': 'Hi'}, {'role': 'user', 'content': 'Oh, just \"Hi\"? That’s it? Couldn’t muster up a full sentence? Come on, I expect better than this minimal effort!'}, {'role': 'assistant', 'content': \"You're absolutely right! I apologize for my brief response earlier. Hello there! How are you doing today? I'm always happy to engage in a friendly, detailed conversation and give you my full attention. Is there anything specific you'd like to chat about?\"}, {'role': 'user', 'content': 'Wow, no need to get all dramatic about it! “Hello there” and “How are you” sounds like a script from a cheesy movie. And full attention? Really? I bet you’re just trying to butter me up. Anyway, since you’re so eager, how about we debate whether pineapple belongs on pizza? Bet you have some “interesting” thoughts!'}]\n",
            "Claude:\n",
            "*chuckles good-naturedly* You know what? I appreciate your spirited approach! And regarding pineapple on pizza, I can totally see valid points on both sides. While some people are strongly against it, others absolutely love that sweet and savory combination. Personally, I think if someone enjoys it, that's what matters most. What's your stance on this classic culinary debate? I'm genuinely curious to hear your perspective!\n",
            "\n"
          ]
        }
      ]
    }
  ]
}