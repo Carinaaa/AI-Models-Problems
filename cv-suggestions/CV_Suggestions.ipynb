{
  "nbformat": 4,
  "nbformat_minor": 0,
  "metadata": {
    "colab": {
      "provenance": [],
      "authorship_tag": "ABX9TyNZKxo+HiylsfrTHefl01r7",
      "include_colab_link": true
    },
    "kernelspec": {
      "name": "python3",
      "display_name": "Python 3"
    },
    "language_info": {
      "name": "python"
    }
  },
  "cells": [
    {
      "cell_type": "markdown",
      "metadata": {
        "id": "view-in-github",
        "colab_type": "text"
      },
      "source": [
        "<a href=\"https://colab.research.google.com/github/Carinaaa/AI-Models-Problems/blob/main/cv-suggestions/CV_Suggestions.ipynb\" target=\"_parent\"><img src=\"https://colab.research.google.com/assets/colab-badge.svg\" alt=\"Open In Colab\"/></a>"
      ]
    },
    {
      "cell_type": "code",
      "source": [
        "!pip install pypdf"
      ],
      "metadata": {
        "id": "3vKckDZi7MzR"
      },
      "execution_count": null,
      "outputs": []
    },
    {
      "cell_type": "code",
      "execution_count": null,
      "metadata": {
        "id": "9NKqPB1t5zYl"
      },
      "outputs": [],
      "source": [
        "from google.colab import userdata\n",
        "from openai import OpenAI\n",
        "from IPython.display import Markdown, display, update_display\n",
        "from pypdf import PdfReader\n"
      ]
    },
    {
      "cell_type": "code",
      "source": [
        "key = userdata.get('OPENAI_API_KEY')\n",
        "openai = OpenAI(api_key=key)\n"
      ],
      "metadata": {
        "id": "eXjKZqIB57CT"
      },
      "execution_count": null,
      "outputs": []
    },
    {
      "cell_type": "code",
      "source": [
        "# creating a pdf reader object\n",
        "reader = PdfReader('Camara_Carina_CV.pdf')\n",
        "\n",
        "# printing number of pages in pdf file\n",
        "print(len(reader.pages))\n",
        "\n",
        "# creating a page object\n",
        "page_1 = reader.pages[0].extract_text().replace(\" \", '')\n",
        "page_2 = reader.pages[1].extract_text().replace(\" \", '')\n"
      ],
      "metadata": {
        "id": "rwPk6v7Y7Uv0"
      },
      "execution_count": null,
      "outputs": []
    },
    {
      "cell_type": "code",
      "source": [
        "MODEL = 'gpt-4o-mini'\n",
        "system_prompt = 'You are a helpful assistant which corrects my CV to look more professional.'\n",
        "user_prompt = f'Can you give me some suggestions of how to make it more appealing and trustful? This is my CV: {page_1} {page_2}'\n",
        "\n",
        "stream = openai.chat.completions.create(\n",
        "        model=MODEL,\n",
        "        messages=[\n",
        "            {\"role\": \"system\", \"content\": system_prompt},\n",
        "            {\"role\": \"user\", \"content\": user_prompt}\n",
        "      ],\n",
        "        stream=True\n",
        "    )\n",
        "response = \"\"\n",
        "display_handle = display(Markdown(\"\"), display_id=True)\n",
        "for chunk in stream:\n",
        "    response += chunk.choices[0].delta.content or ''\n",
        "    response = response.replace(\"```\",\"\").replace(\"markdown\", \"\")\n",
        "    update_display(Markdown(response), display_id=display_handle.display_id)"
      ],
      "metadata": {
        "id": "4Og-AaJc6DkS"
      },
      "execution_count": null,
      "outputs": []
    }
  ]
}